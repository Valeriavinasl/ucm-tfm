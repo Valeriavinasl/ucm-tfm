{
  "cells": [
    {
      "cell_type": "code",
      "execution_count": 447,
      "id": "4fd96893-6737-4bea-a89d-ee491ddde13c",
      "metadata": {
        "id": "4fd96893-6737-4bea-a89d-ee491ddde13c"
      },
      "outputs": [],
      "source": [
        "## lo básico\n",
        "import pandas as pd\n",
        "import numpy as np\n",
        "import unicodedata\n",
        "import csv\n",
        "from collections import Counter\n",
        "\n",
        "\n",
        "## visualización\n",
        "import matplotlib.pyplot as plt\n",
        "%matplotlib inline\n",
        "\n",
        "import seaborn as sns\n",
        "import plotly.express as px\n",
        "import plotly.graph_objects as go\n",
        "\n",
        "## pre procesado\n",
        "from sklearn.model_selection import train_test_split\n",
        "#from ydata_profiling import ProfileReport\n",
        "\n",
        "## modelado\n",
        "from sklearn.preprocessing import LabelEncoder\n",
        "from sklearn.ensemble import RandomForestClassifier,RandomForestRegressor, GradientBoostingRegressor, GradientBoostingClassifier\n",
        "from sklearn.tree import DecisionTreeClassifier\n",
        "from sklearn.naive_bayes import GaussianNB\n",
        "from sklearn.linear_model import LogisticRegression\n",
        "from sklearn.linear_model import LinearRegression\n",
        "from sklearn.neighbors import NearestNeighbors,KNeighborsClassifier\n",
        "from sklearn.dummy import DummyClassifier, DummyRegressor\n",
        "from sklearn.model_selection import StratifiedKFold, KFold, cross_val_predict\n",
        "from sklearn.preprocessing import StandardScaler\n",
        "\n",
        "\n",
        "\n",
        "\n",
        "\n",
        "\n",
        "\n",
        "\n",
        "\n",
        "\n",
        "\n",
        "## métricas\n",
        "from pandas.plotting import scatter_matrix\n",
        "from sklearn.metrics import accuracy_score, auc, confusion_matrix, f1_score, precision_score, recall_score, roc_curve, roc_auc_score, mean_squared_error\n",
        "from sklearn.metrics import classification_report, average_precision_score, ConfusionMatrixDisplay, balanced_accuracy_score,mean_absolute_error, r2_score\n",
        "from sklearn.preprocessing import label_binarize\n",
        "\n",
        "## mejora de modelos\n",
        "from sklearn.feature_selection import VarianceThreshold\n",
        "from sklearn.feature_selection import SelectKBest\n",
        "from sklearn.model_selection import GridSearchCV\n",
        "from imblearn.over_sampling import SMOTE\n",
        "from sklearn.model_selection import cross_val_score\n",
        "\n",
        "## automatización\n",
        "from sklearn.pipeline import Pipeline\n",
        "from sklearn.preprocessing import OneHotEncoder, StandardScaler\n",
        "from sklearn.compose import ColumnTransformer\n",
        "from sklearn.impute import SimpleImputer"
      ]
    },
    {
      "cell_type": "markdown",
      "id": "28f98eba-67f3-4135-b6a0-686d42270330",
      "metadata": {
        "id": "28f98eba-67f3-4135-b6a0-686d42270330"
      },
      "source": [
        "# 1. Carga de datos"
      ]
    },
    {
      "cell_type": "code",
      "execution_count": 448,
      "id": "34981632-b75f-44dd-9fa8-6493cf30f916",
      "metadata": {
        "colab": {
          "base_uri": "https://localhost:8080/",
          "height": 290
        },
        "id": "34981632-b75f-44dd-9fa8-6493cf30f916",
        "outputId": "bbf3b1c0-e5e5-4ec1-a86c-1d6be3260105"
      },
      "outputs": [
        {
          "output_type": "execute_result",
          "data": {
            "text/plain": [
              "   edad  is_condicion_fisica     detalle_condicion      epoca  \\\n",
              "0  32.0                    0                    No     Verano   \n",
              "1  32.0                    0                    No     Verano   \n",
              "2  32.0                    0                    No  Primavera   \n",
              "3  32.0                    0  Migrañas tensionales  Primavera   \n",
              "4  21.0                    0                    No     Verano   \n",
              "\n",
              "   is_camino_realizado_prev     ruta  dias  distancia  is_calzado_adecuado  \\\n",
              "0                         0  Francés   5.0        100                    0   \n",
              "1                         0  Francés   5.0        100                    0   \n",
              "2                         1  Francés   6.0        100                    1   \n",
              "3                         0   Inglés   6.0        100                    1   \n",
              "4                         1  Francés   6.0        100                    1   \n",
              "\n",
              "   is_tr_mochila  ...  hace_cuanto_Más de 2 años temporada_Otoño  \\\n",
              "0              0  ...                          1               0   \n",
              "1              0  ...                          1               0   \n",
              "2              1  ...                          1               0   \n",
              "3              1  ...                          0               0   \n",
              "4              1  ...                          0               0   \n",
              "\n",
              "   temporada_Primavera temporada_Verano  grupo_edad_30-39  grupo_edad_40-49  \\\n",
              "0                    0                1                 1                 0   \n",
              "1                    0                1                 1                 0   \n",
              "2                    1                0                 1                 0   \n",
              "3                    1                0                 1                 0   \n",
              "4                    0                1                 0                 0   \n",
              "\n",
              "   grupo_edad_50-59  grupo_edad_60-70  is_volver_binaria  is_volver_talvez  \n",
              "0                 0                 0                  0                 0  \n",
              "1                 0                 0                  0                 0  \n",
              "2                 0                 0                  0                 0  \n",
              "3                 0                 0                  0                 0  \n",
              "4                 0                 0                  0                 0  \n",
              "\n",
              "[5 rows x 98 columns]"
            ],
            "text/html": [
              "\n",
              "  <div id=\"df-c2f4dafb-baba-4854-b7bf-c7f9221c0991\" class=\"colab-df-container\">\n",
              "    <div>\n",
              "<style scoped>\n",
              "    .dataframe tbody tr th:only-of-type {\n",
              "        vertical-align: middle;\n",
              "    }\n",
              "\n",
              "    .dataframe tbody tr th {\n",
              "        vertical-align: top;\n",
              "    }\n",
              "\n",
              "    .dataframe thead th {\n",
              "        text-align: right;\n",
              "    }\n",
              "</style>\n",
              "<table border=\"1\" class=\"dataframe\">\n",
              "  <thead>\n",
              "    <tr style=\"text-align: right;\">\n",
              "      <th></th>\n",
              "      <th>edad</th>\n",
              "      <th>is_condicion_fisica</th>\n",
              "      <th>detalle_condicion</th>\n",
              "      <th>epoca</th>\n",
              "      <th>is_camino_realizado_prev</th>\n",
              "      <th>ruta</th>\n",
              "      <th>dias</th>\n",
              "      <th>distancia</th>\n",
              "      <th>is_calzado_adecuado</th>\n",
              "      <th>is_tr_mochila</th>\n",
              "      <th>...</th>\n",
              "      <th>hace_cuanto_Más de 2 años</th>\n",
              "      <th>temporada_Otoño</th>\n",
              "      <th>temporada_Primavera</th>\n",
              "      <th>temporada_Verano</th>\n",
              "      <th>grupo_edad_30-39</th>\n",
              "      <th>grupo_edad_40-49</th>\n",
              "      <th>grupo_edad_50-59</th>\n",
              "      <th>grupo_edad_60-70</th>\n",
              "      <th>is_volver_binaria</th>\n",
              "      <th>is_volver_talvez</th>\n",
              "    </tr>\n",
              "  </thead>\n",
              "  <tbody>\n",
              "    <tr>\n",
              "      <th>0</th>\n",
              "      <td>32.0</td>\n",
              "      <td>0</td>\n",
              "      <td>No</td>\n",
              "      <td>Verano</td>\n",
              "      <td>0</td>\n",
              "      <td>Francés</td>\n",
              "      <td>5.0</td>\n",
              "      <td>100</td>\n",
              "      <td>0</td>\n",
              "      <td>0</td>\n",
              "      <td>...</td>\n",
              "      <td>1</td>\n",
              "      <td>0</td>\n",
              "      <td>0</td>\n",
              "      <td>1</td>\n",
              "      <td>1</td>\n",
              "      <td>0</td>\n",
              "      <td>0</td>\n",
              "      <td>0</td>\n",
              "      <td>0</td>\n",
              "      <td>0</td>\n",
              "    </tr>\n",
              "    <tr>\n",
              "      <th>1</th>\n",
              "      <td>32.0</td>\n",
              "      <td>0</td>\n",
              "      <td>No</td>\n",
              "      <td>Verano</td>\n",
              "      <td>0</td>\n",
              "      <td>Francés</td>\n",
              "      <td>5.0</td>\n",
              "      <td>100</td>\n",
              "      <td>0</td>\n",
              "      <td>0</td>\n",
              "      <td>...</td>\n",
              "      <td>1</td>\n",
              "      <td>0</td>\n",
              "      <td>0</td>\n",
              "      <td>1</td>\n",
              "      <td>1</td>\n",
              "      <td>0</td>\n",
              "      <td>0</td>\n",
              "      <td>0</td>\n",
              "      <td>0</td>\n",
              "      <td>0</td>\n",
              "    </tr>\n",
              "    <tr>\n",
              "      <th>2</th>\n",
              "      <td>32.0</td>\n",
              "      <td>0</td>\n",
              "      <td>No</td>\n",
              "      <td>Primavera</td>\n",
              "      <td>1</td>\n",
              "      <td>Francés</td>\n",
              "      <td>6.0</td>\n",
              "      <td>100</td>\n",
              "      <td>1</td>\n",
              "      <td>1</td>\n",
              "      <td>...</td>\n",
              "      <td>1</td>\n",
              "      <td>0</td>\n",
              "      <td>1</td>\n",
              "      <td>0</td>\n",
              "      <td>1</td>\n",
              "      <td>0</td>\n",
              "      <td>0</td>\n",
              "      <td>0</td>\n",
              "      <td>0</td>\n",
              "      <td>0</td>\n",
              "    </tr>\n",
              "    <tr>\n",
              "      <th>3</th>\n",
              "      <td>32.0</td>\n",
              "      <td>0</td>\n",
              "      <td>Migrañas tensionales</td>\n",
              "      <td>Primavera</td>\n",
              "      <td>0</td>\n",
              "      <td>Inglés</td>\n",
              "      <td>6.0</td>\n",
              "      <td>100</td>\n",
              "      <td>1</td>\n",
              "      <td>1</td>\n",
              "      <td>...</td>\n",
              "      <td>0</td>\n",
              "      <td>0</td>\n",
              "      <td>1</td>\n",
              "      <td>0</td>\n",
              "      <td>1</td>\n",
              "      <td>0</td>\n",
              "      <td>0</td>\n",
              "      <td>0</td>\n",
              "      <td>0</td>\n",
              "      <td>0</td>\n",
              "    </tr>\n",
              "    <tr>\n",
              "      <th>4</th>\n",
              "      <td>21.0</td>\n",
              "      <td>0</td>\n",
              "      <td>No</td>\n",
              "      <td>Verano</td>\n",
              "      <td>1</td>\n",
              "      <td>Francés</td>\n",
              "      <td>6.0</td>\n",
              "      <td>100</td>\n",
              "      <td>1</td>\n",
              "      <td>1</td>\n",
              "      <td>...</td>\n",
              "      <td>0</td>\n",
              "      <td>0</td>\n",
              "      <td>0</td>\n",
              "      <td>1</td>\n",
              "      <td>0</td>\n",
              "      <td>0</td>\n",
              "      <td>0</td>\n",
              "      <td>0</td>\n",
              "      <td>0</td>\n",
              "      <td>0</td>\n",
              "    </tr>\n",
              "  </tbody>\n",
              "</table>\n",
              "<p>5 rows × 98 columns</p>\n",
              "</div>\n",
              "    <div class=\"colab-df-buttons\">\n",
              "\n",
              "  <div class=\"colab-df-container\">\n",
              "    <button class=\"colab-df-convert\" onclick=\"convertToInteractive('df-c2f4dafb-baba-4854-b7bf-c7f9221c0991')\"\n",
              "            title=\"Convert this dataframe to an interactive table.\"\n",
              "            style=\"display:none;\">\n",
              "\n",
              "  <svg xmlns=\"http://www.w3.org/2000/svg\" height=\"24px\" viewBox=\"0 -960 960 960\">\n",
              "    <path d=\"M120-120v-720h720v720H120Zm60-500h600v-160H180v160Zm220 220h160v-160H400v160Zm0 220h160v-160H400v160ZM180-400h160v-160H180v160Zm440 0h160v-160H620v160ZM180-180h160v-160H180v160Zm440 0h160v-160H620v160Z\"/>\n",
              "  </svg>\n",
              "    </button>\n",
              "\n",
              "  <style>\n",
              "    .colab-df-container {\n",
              "      display:flex;\n",
              "      gap: 12px;\n",
              "    }\n",
              "\n",
              "    .colab-df-convert {\n",
              "      background-color: #E8F0FE;\n",
              "      border: none;\n",
              "      border-radius: 50%;\n",
              "      cursor: pointer;\n",
              "      display: none;\n",
              "      fill: #1967D2;\n",
              "      height: 32px;\n",
              "      padding: 0 0 0 0;\n",
              "      width: 32px;\n",
              "    }\n",
              "\n",
              "    .colab-df-convert:hover {\n",
              "      background-color: #E2EBFA;\n",
              "      box-shadow: 0px 1px 2px rgba(60, 64, 67, 0.3), 0px 1px 3px 1px rgba(60, 64, 67, 0.15);\n",
              "      fill: #174EA6;\n",
              "    }\n",
              "\n",
              "    .colab-df-buttons div {\n",
              "      margin-bottom: 4px;\n",
              "    }\n",
              "\n",
              "    [theme=dark] .colab-df-convert {\n",
              "      background-color: #3B4455;\n",
              "      fill: #D2E3FC;\n",
              "    }\n",
              "\n",
              "    [theme=dark] .colab-df-convert:hover {\n",
              "      background-color: #434B5C;\n",
              "      box-shadow: 0px 1px 3px 1px rgba(0, 0, 0, 0.15);\n",
              "      filter: drop-shadow(0px 1px 2px rgba(0, 0, 0, 0.3));\n",
              "      fill: #FFFFFF;\n",
              "    }\n",
              "  </style>\n",
              "\n",
              "    <script>\n",
              "      const buttonEl =\n",
              "        document.querySelector('#df-c2f4dafb-baba-4854-b7bf-c7f9221c0991 button.colab-df-convert');\n",
              "      buttonEl.style.display =\n",
              "        google.colab.kernel.accessAllowed ? 'block' : 'none';\n",
              "\n",
              "      async function convertToInteractive(key) {\n",
              "        const element = document.querySelector('#df-c2f4dafb-baba-4854-b7bf-c7f9221c0991');\n",
              "        const dataTable =\n",
              "          await google.colab.kernel.invokeFunction('convertToInteractive',\n",
              "                                                    [key], {});\n",
              "        if (!dataTable) return;\n",
              "\n",
              "        const docLinkHtml = 'Like what you see? Visit the ' +\n",
              "          '<a target=\"_blank\" href=https://colab.research.google.com/notebooks/data_table.ipynb>data table notebook</a>'\n",
              "          + ' to learn more about interactive tables.';\n",
              "        element.innerHTML = '';\n",
              "        dataTable['output_type'] = 'display_data';\n",
              "        await google.colab.output.renderOutput(dataTable, element);\n",
              "        const docLink = document.createElement('div');\n",
              "        docLink.innerHTML = docLinkHtml;\n",
              "        element.appendChild(docLink);\n",
              "      }\n",
              "    </script>\n",
              "  </div>\n",
              "\n",
              "\n",
              "    <div id=\"df-eb545fec-0790-493e-9526-26156fad372b\">\n",
              "      <button class=\"colab-df-quickchart\" onclick=\"quickchart('df-eb545fec-0790-493e-9526-26156fad372b')\"\n",
              "                title=\"Suggest charts\"\n",
              "                style=\"display:none;\">\n",
              "\n",
              "<svg xmlns=\"http://www.w3.org/2000/svg\" height=\"24px\"viewBox=\"0 0 24 24\"\n",
              "     width=\"24px\">\n",
              "    <g>\n",
              "        <path d=\"M19 3H5c-1.1 0-2 .9-2 2v14c0 1.1.9 2 2 2h14c1.1 0 2-.9 2-2V5c0-1.1-.9-2-2-2zM9 17H7v-7h2v7zm4 0h-2V7h2v10zm4 0h-2v-4h2v4z\"/>\n",
              "    </g>\n",
              "</svg>\n",
              "      </button>\n",
              "\n",
              "<style>\n",
              "  .colab-df-quickchart {\n",
              "      --bg-color: #E8F0FE;\n",
              "      --fill-color: #1967D2;\n",
              "      --hover-bg-color: #E2EBFA;\n",
              "      --hover-fill-color: #174EA6;\n",
              "      --disabled-fill-color: #AAA;\n",
              "      --disabled-bg-color: #DDD;\n",
              "  }\n",
              "\n",
              "  [theme=dark] .colab-df-quickchart {\n",
              "      --bg-color: #3B4455;\n",
              "      --fill-color: #D2E3FC;\n",
              "      --hover-bg-color: #434B5C;\n",
              "      --hover-fill-color: #FFFFFF;\n",
              "      --disabled-bg-color: #3B4455;\n",
              "      --disabled-fill-color: #666;\n",
              "  }\n",
              "\n",
              "  .colab-df-quickchart {\n",
              "    background-color: var(--bg-color);\n",
              "    border: none;\n",
              "    border-radius: 50%;\n",
              "    cursor: pointer;\n",
              "    display: none;\n",
              "    fill: var(--fill-color);\n",
              "    height: 32px;\n",
              "    padding: 0;\n",
              "    width: 32px;\n",
              "  }\n",
              "\n",
              "  .colab-df-quickchart:hover {\n",
              "    background-color: var(--hover-bg-color);\n",
              "    box-shadow: 0 1px 2px rgba(60, 64, 67, 0.3), 0 1px 3px 1px rgba(60, 64, 67, 0.15);\n",
              "    fill: var(--button-hover-fill-color);\n",
              "  }\n",
              "\n",
              "  .colab-df-quickchart-complete:disabled,\n",
              "  .colab-df-quickchart-complete:disabled:hover {\n",
              "    background-color: var(--disabled-bg-color);\n",
              "    fill: var(--disabled-fill-color);\n",
              "    box-shadow: none;\n",
              "  }\n",
              "\n",
              "  .colab-df-spinner {\n",
              "    border: 2px solid var(--fill-color);\n",
              "    border-color: transparent;\n",
              "    border-bottom-color: var(--fill-color);\n",
              "    animation:\n",
              "      spin 1s steps(1) infinite;\n",
              "  }\n",
              "\n",
              "  @keyframes spin {\n",
              "    0% {\n",
              "      border-color: transparent;\n",
              "      border-bottom-color: var(--fill-color);\n",
              "      border-left-color: var(--fill-color);\n",
              "    }\n",
              "    20% {\n",
              "      border-color: transparent;\n",
              "      border-left-color: var(--fill-color);\n",
              "      border-top-color: var(--fill-color);\n",
              "    }\n",
              "    30% {\n",
              "      border-color: transparent;\n",
              "      border-left-color: var(--fill-color);\n",
              "      border-top-color: var(--fill-color);\n",
              "      border-right-color: var(--fill-color);\n",
              "    }\n",
              "    40% {\n",
              "      border-color: transparent;\n",
              "      border-right-color: var(--fill-color);\n",
              "      border-top-color: var(--fill-color);\n",
              "    }\n",
              "    60% {\n",
              "      border-color: transparent;\n",
              "      border-right-color: var(--fill-color);\n",
              "    }\n",
              "    80% {\n",
              "      border-color: transparent;\n",
              "      border-right-color: var(--fill-color);\n",
              "      border-bottom-color: var(--fill-color);\n",
              "    }\n",
              "    90% {\n",
              "      border-color: transparent;\n",
              "      border-bottom-color: var(--fill-color);\n",
              "    }\n",
              "  }\n",
              "</style>\n",
              "\n",
              "      <script>\n",
              "        async function quickchart(key) {\n",
              "          const quickchartButtonEl =\n",
              "            document.querySelector('#' + key + ' button');\n",
              "          quickchartButtonEl.disabled = true;  // To prevent multiple clicks.\n",
              "          quickchartButtonEl.classList.add('colab-df-spinner');\n",
              "          try {\n",
              "            const charts = await google.colab.kernel.invokeFunction(\n",
              "                'suggestCharts', [key], {});\n",
              "          } catch (error) {\n",
              "            console.error('Error during call to suggestCharts:', error);\n",
              "          }\n",
              "          quickchartButtonEl.classList.remove('colab-df-spinner');\n",
              "          quickchartButtonEl.classList.add('colab-df-quickchart-complete');\n",
              "        }\n",
              "        (() => {\n",
              "          let quickchartButtonEl =\n",
              "            document.querySelector('#df-eb545fec-0790-493e-9526-26156fad372b button');\n",
              "          quickchartButtonEl.style.display =\n",
              "            google.colab.kernel.accessAllowed ? 'block' : 'none';\n",
              "        })();\n",
              "      </script>\n",
              "    </div>\n",
              "\n",
              "    </div>\n",
              "  </div>\n"
            ],
            "application/vnd.google.colaboratory.intrinsic+json": {
              "type": "dataframe",
              "variable_name": "df"
            }
          },
          "metadata": {},
          "execution_count": 448
        }
      ],
      "source": [
        "url = \"https://raw.githubusercontent.com/Valeriavinasl/ucm-tfm/main/data/F_E_Encuesta.csv\"\n",
        "\n",
        "df = pd.read_csv(url, sep=\"\\t\", engine=\"python\")\n",
        "df.head()"
      ]
    },
    {
      "cell_type": "code",
      "execution_count": 449,
      "id": "rQVe1eQSSMM2",
      "metadata": {
        "colab": {
          "base_uri": "https://localhost:8080/"
        },
        "id": "rQVe1eQSSMM2",
        "outputId": "dbdf354d-eef0-4b08-bb59-1d0a35367a01"
      },
      "outputs": [
        {
          "output_type": "stream",
          "name": "stdout",
          "text": [
            "<class 'pandas.core.frame.DataFrame'>\n",
            "RangeIndex: 2000 entries, 0 to 1999\n",
            "Data columns (total 98 columns):\n",
            " #   Column                                                                               Non-Null Count  Dtype  \n",
            "---  ------                                                                               --------------  -----  \n",
            " 0   edad                                                                                 2000 non-null   float64\n",
            " 1   is_condicion_fisica                                                                  2000 non-null   int64  \n",
            " 2   detalle_condicion                                                                    2000 non-null   object \n",
            " 3   epoca                                                                                2000 non-null   object \n",
            " 4   is_camino_realizado_prev                                                             2000 non-null   int64  \n",
            " 5   ruta                                                                                 2000 non-null   object \n",
            " 6   dias                                                                                 2000 non-null   float64\n",
            " 7   distancia                                                                            2000 non-null   int64  \n",
            " 8   is_calzado_adecuado                                                                  2000 non-null   int64  \n",
            " 9   is_tr_mochila                                                                        2000 non-null   int64  \n",
            " 10  is_reserva_aloj                                                                      2000 non-null   int64  \n",
            " 11  etapa_ideal                                                                          2000 non-null   object \n",
            " 12  nota                                                                                 2000 non-null   int64  \n",
            " 13  consejos                                                                             2000 non-null   object \n",
            " 14  intensidad_km_dia                                                                    2000 non-null   float64\n",
            " 15  is_experto_senderismo                                                                2000 non-null   int64  \n",
            " 16  genero_Mujer                                                                         2000 non-null   int64  \n",
            " 17  pais_Argentina                                                                       2000 non-null   int64  \n",
            " 18  pais_Colombia                                                                        2000 non-null   int64  \n",
            " 19  pais_EEUU                                                                            2000 non-null   int64  \n",
            " 20  pais_España                                                                          2000 non-null   int64  \n",
            " 21  pais_Francia                                                                         2000 non-null   int64  \n",
            " 22  pais_Italia                                                                          2000 non-null   int64  \n",
            " 23  pais_México                                                                          2000 non-null   int64  \n",
            " 24  pais_Perú                                                                            2000 non-null   int64  \n",
            " 25  pais_Portugal                                                                        2000 non-null   int64  \n",
            " 26  pais_Reino Unido                                                                     2000 non-null   int64  \n",
            " 27  calzado_Playeros                                                                     2000 non-null   int64  \n",
            " 28  calzado_Sandalias de trekking                                                        2000 non-null   int64  \n",
            " 29  calzado_Zapatillas de trail running                                                  2000 non-null   int64  \n",
            " 30  calzado_Zapatillas deportivas normales                                               2000 non-null   int64  \n",
            " 31  modo_realizacion_A pie                                                               2000 non-null   int64  \n",
            " 32  modo_realizacion_En bici                                                             2000 non-null   int64  \n",
            " 33  alojamiento_Albergues privados, Hostales / Hoteles                                   2000 non-null   int64  \n",
            " 34  alojamiento_Albergues públicos                                                       2000 non-null   int64  \n",
            " 35  alojamiento_Albergues públicos, Albergues privados                                   2000 non-null   int64  \n",
            " 36  alojamiento_Albergues públicos, Albergues privados, Airbnb                           2000 non-null   int64  \n",
            " 37  alojamiento_Albergues públicos, Albergues privados, Hostales / Hoteles               2000 non-null   int64  \n",
            " 38  alojamiento_Hostales / Hoteles                                                       2000 non-null   int64  \n",
            " 39  alojamiento_Hostales / Hoteles, Airbnb                                               2000 non-null   int64  \n",
            " 40  alojamiento_Hostales / Hoteles, Pensiones                                            2000 non-null   int64  \n",
            " 41  alojamiento_No aplica                                                                2000 non-null   int64  \n",
            " 42  is_volver_a_hacer_Tal vez                                                            2000 non-null   int64  \n",
            " 43  is_lesion_Sí, importante (me hizo abandonar)                                         2000 non-null   int64  \n",
            " 44  is_lesion_Sí, leve                                                                   2000 non-null   int64  \n",
            " 45  is_lesion_Sí, moderado                                                               2000 non-null   int64  \n",
            " 46  alojamiento_Albergues privados, Hostales / Hoteles.1                                 2000 non-null   int64  \n",
            " 47  alojamiento_Albergues públicos.1                                                     2000 non-null   int64  \n",
            " 48  alojamiento_Albergues públicos, Albergues privados.1                                 2000 non-null   int64  \n",
            " 49  alojamiento_Albergues públicos, Albergues privados, Airbnb.1                         2000 non-null   int64  \n",
            " 50  alojamiento_Albergues públicos, Albergues privados, Hostales / Hoteles.1             2000 non-null   int64  \n",
            " 51  alojamiento_Hostales / Hoteles.1                                                     2000 non-null   int64  \n",
            " 52  alojamiento_Hostales / Hoteles, Airbnb.1                                             2000 non-null   int64  \n",
            " 53  alojamiento_Hostales / Hoteles, Pensiones.1                                          2000 non-null   int64  \n",
            " 54  alojamiento_No aplica.1                                                              2000 non-null   int64  \n",
            " 55  motivo_Cultural/turístico, Deportivo                                                 2000 non-null   int64  \n",
            " 56  motivo_Cultural/turístico, Deportivo, Personal/reflexivo                             2000 non-null   int64  \n",
            " 57  motivo_Cultural/turístico, Deportivo, Religioso                                      2000 non-null   int64  \n",
            " 58  motivo_Cultural/turístico, Personal/reflexivo                                        2000 non-null   int64  \n",
            " 59  motivo_Cultural/turístico, Personal/reflexivo, Religioso                             2000 non-null   int64  \n",
            " 60  motivo_Cultural/turístico, Religioso                                                 2000 non-null   int64  \n",
            " 61  motivo_Deportivo                                                                     2000 non-null   int64  \n",
            " 62  motivo_Deportivo, Cultural/turístico                                                 2000 non-null   int64  \n",
            " 63  motivo_Deportivo, Cultural/turístico, Personal/reflexivo                             2000 non-null   int64  \n",
            " 64  motivo_Deportivo, Personal/reflexivo                                                 2000 non-null   int64  \n",
            " 65  motivo_Deportivo, Personal/reflexivo, Religioso                                      2000 non-null   int64  \n",
            " 66  motivo_Deportivo, Religioso                                                          2000 non-null   int64  \n",
            " 67  motivo_Disfrutar de mis amigos                                                       2000 non-null   int64  \n",
            " 68  motivo_Personal/reflexivo                                                            2000 non-null   int64  \n",
            " 69  motivo_Personal/reflexivo, Religioso                                                 2000 non-null   int64  \n",
            " 70  motivo_Religioso                                                                     2000 non-null   int64  \n",
            " 71  motivo_Religioso, Cultural/turístico                                                 2000 non-null   int64  \n",
            " 72  motivo_Religioso, Cultural/turístico, Personal/reflexivo                             2000 non-null   int64  \n",
            " 73  motivo_Religioso, Deportivo                                                          2000 non-null   int64  \n",
            " 74  motivo_Religioso, Deportivo, Cultural/turístico, Personal/reflexivo                  2000 non-null   int64  \n",
            " 75  motivo_Religioso, Deportivo, Personal/reflexivo                                      2000 non-null   int64  \n",
            " 76  motivo_Religioso, Personal/reflexivo                                                 2000 non-null   int64  \n",
            " 77  motivo_Religioso, Personal/reflexivo, Una cosa te lleva  a la otra si darte cuenta.  2000 non-null   int64  \n",
            " 78  motivo_Turismo                                                                       2000 non-null   int64  \n",
            " 79  nivel_expereincia_previo_Básica (≤ 10 km ocasionalmente)                             2000 non-null   int64  \n",
            " 80  nivel_expereincia_previo_Moderada (10–20 km regularmente)                            2000 non-null   int64  \n",
            " 81  nivel_expereincia_previo_Ninguna                                                     2000 non-null   int64  \n",
            " 82  condicion_previa_Baja                                                                2000 non-null   int64  \n",
            " 83  condicion_previa_Media                                                               2000 non-null   int64  \n",
            " 84  dureza_Moderadas                                                                     2000 non-null   int64  \n",
            " 85  dureza_Muy variables                                                                 2000 non-null   int64  \n",
            " 86  dureza_Suaves                                                                        2000 non-null   int64  \n",
            " 87  hace_cuanto_Este año                                                                 2000 non-null   int64  \n",
            " 88  hace_cuanto_Más de 2 años                                                            2000 non-null   int64  \n",
            " 89  temporada_Otoño                                                                      2000 non-null   int64  \n",
            " 90  temporada_Primavera                                                                  2000 non-null   int64  \n",
            " 91  temporada_Verano                                                                     2000 non-null   int64  \n",
            " 92  grupo_edad_30-39                                                                     2000 non-null   int64  \n",
            " 93  grupo_edad_40-49                                                                     2000 non-null   int64  \n",
            " 94  grupo_edad_50-59                                                                     2000 non-null   int64  \n",
            " 95  grupo_edad_60-70                                                                     2000 non-null   int64  \n",
            " 96  is_volver_binaria                                                                    2000 non-null   int64  \n",
            " 97  is_volver_talvez                                                                     2000 non-null   int64  \n",
            "dtypes: float64(3), int64(90), object(5)\n",
            "memory usage: 1.5+ MB\n"
          ]
        }
      ],
      "source": [
        "df.info()"
      ]
    },
    {
      "cell_type": "markdown",
      "id": "hDBBaFfYxjFz",
      "metadata": {
        "id": "hDBBaFfYxjFz"
      },
      "source": [
        "# 2. Preprocesado inicial\n",
        "Se realiza para evitar posibles errores más adelante. Asegura que existen las columnas interesantes, y en caso contrario, las crea a partir de otras columnas disponibles, además de comrobar que todas estén en el tipo correcto."
      ]
    },
    {
      "cell_type": "code",
      "source": [
        "# 1 si hay cualquier tipo de si, 0 si no\n",
        "if 'is_lesion' not in df.columns:\n",
        "    columnas_lesion = [c for c in df.columns if c.startswith('is_lesion_')]\n",
        "    if len(columnas_lesion) == 0:\n",
        "        raise KeyError(\"No se encuentran columnas que empiecen por 'is_lesion_'.\")\n",
        "    df['is_lesion'] = (df[columnas_lesion].sum(axis=1) > 0).astype(int)\n",
        "\n",
        "df['is_tr_mochila']   = df['is_tr_mochila'].astype(int)\n",
        "df['is_reserva_aloj'] = df['is_reserva_aloj'].astype(int)\n",
        "df['nota']            = pd.to_numeric(df['nota'], errors='coerce').astype(float)\n",
        "df['intensidad_km_dia'] = pd.to_numeric(df['intensidad_km_dia'], errors='coerce').astype(float)\n"
      ],
      "metadata": {
        "id": "pd7QkGjpyRXC"
      },
      "id": "pd7QkGjpyRXC",
      "execution_count": 450,
      "outputs": []
    },
    {
      "cell_type": "markdown",
      "id": "ad73Qi4mPFb4",
      "metadata": {
        "id": "ad73Qi4mPFb4"
      },
      "source": [
        "# 3. Targets"
      ]
    },
    {
      "cell_type": "code",
      "execution_count": 451,
      "id": "rSAtBIc5O_Cn",
      "metadata": {
        "id": "rSAtBIc5O_Cn"
      },
      "outputs": [],
      "source": [
        "TARGET_LESION = \"is_lesion\"\n",
        "TARGET_NOTA   = \"nota\"\n",
        "TARGET_INTENS = \"intensidad_km_dia\"\n",
        "TARGET_MOCH   = \"is_tr_mochila\"\n",
        "TARGET_RESERV = \"is_reserva_aloj\"\n",
        "\n",
        "drop_targets = [TARGET_LESION, TARGET_NOTA, TARGET_INTENS, TARGET_MOCH, TARGET_RESERV]\n",
        "\n",
        "X = df.drop(columns=[c for c in drop_targets if c in df.columns], errors=\"ignore\")\n",
        "for c in [TARGET_LESION, TARGET_MOCH, TARGET_RESERV]:\n",
        "    if c in df.columns:\n",
        "        if df[c].dtype == bool:\n",
        "            df[c] = df[c].astype(int)\n",
        "        else:\n",
        "            df[c] = (\n",
        "                df[c]\n",
        "                .replace({True:1, False:0, \"Sí\":1, \"Si\":1, \"sí\":1, \"si\":1, \"Yes\":1, \"yes\":1,\n",
        "                          \"No\":0, \"no\":0, \"False\":0, \"false\":0, \"0\":0, \"1\":1})\n",
        "            )"
      ]
    },
    {
      "cell_type": "code",
      "execution_count": 452,
      "id": "l9Mx8equwbvi",
      "metadata": {
        "id": "l9Mx8equwbvi"
      },
      "outputs": [],
      "source": [
        "cv_clf = StratifiedKFold(n_splits=5, shuffle=True, random_state=42)\n",
        "cv_reg = KFold(n_splits=5, shuffle=True, random_state=42)\n",
        "\n",
        "def oof_proba_binary(estimator, X, y, cv=cv_clf):\n",
        "    \"\"\"\n",
        "    Devuelve probabilidad out-of-fold de la clase positiva (1), alineada con el índice de X.\n",
        "    \"\"\"\n",
        "    y = pd.Series(y).astype(int).values\n",
        "    probas = cross_val_predict(estimator, X, y, cv=cv, method=\"predict_proba\", n_jobs=-1)\n",
        "    if probas.shape[1] == 2:\n",
        "        return probas[:, 1]\n",
        "    class_order = np.unique(y)\n",
        "    pos_idx = int(np.where(class_order == 1)[0][0])\n",
        "    return probas[:, pos_idx]\n"
      ]
    },
    {
      "cell_type": "markdown",
      "id": "8fBvuKcyPOjw",
      "metadata": {
        "id": "8fBvuKcyPOjw"
      },
      "source": [
        "# 4. Splits de entramiento"
      ]
    },
    {
      "cell_type": "code",
      "execution_count": 453,
      "id": "y5-1UFf1O_AC",
      "metadata": {
        "id": "y5-1UFf1O_AC"
      },
      "outputs": [],
      "source": [
        "tar = {\n",
        "    \"lesion\": df[TARGET_LESION],\n",
        "    \"nota\":   df[TARGET_NOTA],\n",
        "    \"intensidad\": df[TARGET_INTENS],\n",
        "    \"trMochila\": df[TARGET_MOCH],\n",
        "    \"reservaAlojamiento\": df[TARGET_RESERV],\n",
        "}\n",
        "tipos = {\n",
        "    \"lesion\": \"clasificacion\",\n",
        "    \"trMochila\": \"clasificacion\",\n",
        "    \"reservaAlojamiento\": \"clasificacion\",\n",
        "    \"nota\": \"regresion\",\n",
        "    \"intensidad\": \"regresion\",\n",
        "}"
      ]
    },
    {
      "cell_type": "code",
      "execution_count": 454,
      "id": "8X3zjyP88xlW",
      "metadata": {
        "id": "8X3zjyP88xlW"
      },
      "outputs": [],
      "source": [
        "rf_clasificacion = RandomForestClassifier(\n",
        "    n_estimators=400,\n",
        "    random_state=42,\n",
        "    n_jobs=-1,\n",
        "    class_weight=\"balanced\"\n",
        ")\n",
        "rf_regresion = RandomForestRegressor(\n",
        "    n_estimators=400,\n",
        "    random_state=42,\n",
        "    n_jobs=-1\n",
        ")"
      ]
    },
    {
      "cell_type": "code",
      "execution_count": 455,
      "id": "RWlBFVNqDRmi",
      "metadata": {
        "id": "RWlBFVNqDRmi"
      },
      "outputs": [],
      "source": [
        "y_ruta  = df['ruta'].astype('category')\n",
        "y_epoca = df['epoca'].astype('category')\n",
        "\n",
        "X_ruta  = df.drop(columns=['ruta','epoca'], errors=\"ignore\")\n",
        "X_epoca = df.drop(columns=['ruta','epoca'], errors=\"ignore\")\n",
        "\n",
        "# solo numéricas\n",
        "def make_numeric(X):\n",
        "    Xn = X.select_dtypes(include=['number']).copy()\n",
        "    Xn = Xn.replace({np.inf: np.nan, -np.inf: np.nan}).fillna(0)\n",
        "    return Xn\n",
        "\n",
        "X_ruta  = make_numeric(X_ruta)\n",
        "X_epoca = make_numeric(X_epoca)\n",
        "\n",
        "knn_ruta  = make_pipeline(StandardScaler(), KNeighborsClassifier(n_neighbors=5))\n",
        "knn_epoca = make_pipeline(StandardScaler(), KNeighborsClassifier(n_neighbors=5))\n"
      ]
    },
    {
      "cell_type": "markdown",
      "id": "0-sgQELQHyoJ",
      "metadata": {
        "id": "0-sgQELQHyoJ"
      },
      "source": [
        "Clasificación binaria\n",
        "\n",
        "lesion\n",
        "\n",
        "volver\n",
        "\n",
        "trMochila\n",
        "\n",
        "reservaAlojamiento\n",
        "👉 Ahí ya sacás métricas como ROC-AUC y F1-score.\n",
        "\n",
        "Regresión\n",
        "\n",
        "nota\n",
        "\n",
        "intensidad\n",
        "👉 Ahí evaluás con R² y RMSE.\n",
        "\n",
        "Clasificación multiclase\n",
        "\n",
        "ruta (varias rutas posibles, codificadas one-hot)\n",
        "\n",
        "epoca (Otoño, Primavera, Verano, etc.)\n",
        "👉 Aquí es donde aplica tu saca_metricas_multiclase, porque calcula accuracy, F1 macro, y AUC macro OvR en problemas con más de 2 clases."
      ]
    },
    {
      "cell_type": "markdown",
      "source": [
        "# 5. Clasificación binaria"
      ],
      "metadata": {
        "id": "x1kyJdO3a6sZ"
      },
      "id": "x1kyJdO3a6sZ"
    },
    {
      "cell_type": "code",
      "source": [
        "if 'df_out' not in globals():\n",
        "    df_out = df.copy()\n",
        "\n",
        "col_prob = {\n",
        "    \"lesion\": \"prob_lesion_pred\",\n",
        "    \"trMochila\": \"prob_transporte_mochila_pred\",\n",
        "    \"reservaAlojamiento\": \"prob_reserva_aloj_pred\",\n",
        "}\n",
        "for nombre, colname in col_prob.items():\n",
        "    if colname not in df_out.columns:\n",
        "        try:\n",
        "            df_out[colname] = oof_proba_binary(rf_clasificacion, X, tar[nombre])\n",
        "        except Exception as e:\n",
        "            print(f\"Error\")"
      ],
      "metadata": {
        "id": "eooO7ZIubpVg"
      },
      "id": "eooO7ZIubpVg",
      "execution_count": 456,
      "outputs": []
    },
    {
      "cell_type": "code",
      "execution_count": 457,
      "id": "EHhbzdO3EIbV",
      "metadata": {
        "id": "EHhbzdO3EIbV",
        "colab": {
          "base_uri": "https://localhost:8080/"
        },
        "outputId": "5edaca2b-3fbc-412e-ed43-fd6cb34be5fa"
      },
      "outputs": [
        {
          "output_type": "stream",
          "name": "stdout",
          "text": [
            "\n",
            " Métricas de Clasificación\n",
            "lesion               | ROC-AUC: 1.000 | F1-score: 0.955\n",
            "trMochila            | ROC-AUC: 0.555 | F1-score: 0.006\n",
            "reservaAlojamiento   | ROC-AUC: 0.972 | F1-score: 0.904\n"
          ]
        }
      ],
      "source": [
        "print(\"\\n Métricas de Clasificación\")\n",
        "for nombre in [\"lesion\",  \"trMochila\", \"reservaAlojamiento\"]:\n",
        "    y_true = tar[nombre].values\n",
        "    y_prob = df_out[col_prob[nombre]].values\n",
        "    y_pred = (y_prob >= 0.5).astype(int)\n",
        "\n",
        "    try:\n",
        "        roc = roc_auc_score(y_true, y_prob)\n",
        "    except ValueError:\n",
        "        roc = float(\"nan\")\n",
        "\n",
        "    f1 = f1_score(y_true, y_pred)\n",
        "\n",
        "    print(f\"{nombre:20s} | ROC-AUC: {roc:.3f} | F1-score: {f1:.3f}\")"
      ]
    },
    {
      "cell_type": "markdown",
      "source": [
        "# 6. Regresión"
      ],
      "metadata": {
        "id": "wSIOlcZHbHuF"
      },
      "id": "wSIOlcZHbHuF"
    },
    {
      "cell_type": "code",
      "source": [
        "non_num = X.select_dtypes(exclude=['number']).columns\n",
        "if len(non_num):\n",
        "    X = X.drop(columns=list(non_num))\n",
        "X = X.replace({np.inf: np.nan, -np.inf: np.nan}).fillna(0)\n",
        "\n",
        "tar[\"nota\"] = pd.to_numeric(tar[\"nota\"], errors=\"coerce\").astype(float)\n",
        "tar[\"intensidad\"] = pd.to_numeric(tar[\"intensidad\"], errors=\"coerce\").astype(float)\n",
        "\n",
        "if \"nota_pred\" not in df_out.columns:\n",
        "    try:\n",
        "        df_out[\"nota_pred\"] = cross_val_predict(rf_regresion, X, tar[\"nota\"], cv=cv_reg, n_jobs=-1, method=\"predict\")\n",
        "    except Exception as e:\n",
        "        print(f\"Error\")\n",
        "\n",
        "if \"intensidad_km_dia_pred\" not in df_out.columns:\n",
        "    try:\n",
        "        df_out[\"intensidad_km_dia_pred\"] = cross_val_predict(rf_regresion, X, tar[\"intensidad\"], cv=cv_reg, n_jobs=-1, method=\"predict\")\n",
        "    except Exception as e:\n",
        "        print(f\"Error\")"
      ],
      "metadata": {
        "id": "Xdm08BtXbLf8"
      },
      "id": "Xdm08BtXbLf8",
      "execution_count": 458,
      "outputs": []
    },
    {
      "cell_type": "code",
      "execution_count": 459,
      "id": "KDO38NkyEteJ",
      "metadata": {
        "id": "KDO38NkyEteJ",
        "colab": {
          "base_uri": "https://localhost:8080/"
        },
        "outputId": "301880f6-a8cd-416a-bd8a-9bd9dbfcf5d6"
      },
      "outputs": [
        {
          "output_type": "stream",
          "name": "stdout",
          "text": [
            "\n",
            " Métricas de Regresión\n",
            "nota         | R²: 0.326 | RMSE: 0.651\n",
            "intensidad   | R²: 0.884 | RMSE: 2.289\n"
          ]
        }
      ],
      "source": [
        "print(\"\\n Métricas de Regresión\")\n",
        "for nombre in [\"nota\", \"intensidad\"]:\n",
        "    y_true = tar[nombre].values\n",
        "    y_pred = df_out[col_regresion[nombre]].values\n",
        "\n",
        "    r2 = r2_score(y_true, y_pred)\n",
        "    rmse = np.sqrt(mean_squared_error(y_true, y_pred))\n",
        "\n",
        "    print(f\"{nombre:12s} | R²: {r2:.3f} | RMSE: {rmse:.3f}\")\n"
      ]
    },
    {
      "cell_type": "markdown",
      "id": "YWBLg-5sHskA",
      "metadata": {
        "id": "YWBLg-5sHskA"
      },
      "source": [
        "# 6. Clasificación multiclase"
      ]
    },
    {
      "cell_type": "code",
      "execution_count": 460,
      "id": "E2IGtuxVHsZW",
      "metadata": {
        "id": "E2IGtuxVHsZW"
      },
      "outputs": [],
      "source": [
        "def saca_metricas_multiclase(y_true, y_pred, y_proba=None, labels=None):\n",
        "    print('Matriz de Confusión')\n",
        "    print(confusion_matrix(y_true, y_pred))\n",
        "    print('Accuracy:', accuracy_score(y_true, y_pred))\n",
        "    print('Precision (macro):', precision_score(y_true, y_pred, average='macro'))\n",
        "    print('Recall (macro):', recall_score(y_true, y_pred, average='macro'))\n",
        "    print('F1 Score (macro):', f1_score(y_true, y_pred, average='macro'))\n",
        "\n",
        "    if y_proba is not None and labels is not None:\n",
        "        y_true_bin = label_binarize(y_true, classes=labels)\n",
        "        roc_auc = roc_auc_score(y_true_bin, y_proba, average=\"macro\", multi_class=\"ovr\")\n",
        "        print('AUC (macro, OvR):', roc_auc)"
      ]
    },
    {
      "cell_type": "code",
      "execution_count": 461,
      "id": "3AbvetysHsXd",
      "metadata": {
        "id": "3AbvetysHsXd"
      },
      "outputs": [],
      "source": [
        "y_ruta  = df['ruta'].astype('category')\n",
        "y_epoca = df['epoca'].astype('category')\n",
        "\n",
        "X_ruta  = df.drop(columns=['ruta','epoca'], errors=\"ignore\")\n",
        "X_epoca = df.drop(columns=['ruta','epoca'], errors=\"ignore\")\n",
        "\n",
        "X_ruta  = make_numeric(X_ruta)\n",
        "X_epoca = make_numeric(X_epoca)\n",
        "\n",
        "def stratified_cv_for(y, base_splits=5):\n",
        "    cnts = Counter(y)\n",
        "    min_count = min(cnts.values())\n",
        "    splits = min(base_splits, max(2, min_count))  # al menos 2 y como mucho la minoritaria\n",
        "    return StratifiedKFold(n_splits=splits, shuffle=True, random_state=42)\n",
        "\n",
        "cv_ruta  = stratified_cv_for(y_ruta, base_splits=5)\n",
        "cv_epoca = stratified_cv_for(y_epoca, base_splits=5)\n",
        "\n",
        "knn_ruta  = make_pipeline(StandardScaler(), KNeighborsClassifier(n_neighbors=5))\n",
        "knn_epoca = make_pipeline(StandardScaler(), KNeighborsClassifier(n_neighbors=5))\n",
        "\n",
        "df_out[\"ruta_recom_vecinos\"]  = cross_val_predict(knn_ruta,  X_ruta,  y_ruta,  cv=cv_ruta,  n_jobs=-1)\n",
        "df_out[\"epoca_recom_vecinos\"] = cross_val_predict(knn_epoca, X_epoca, y_epoca, cv=cv_epoca, n_jobs=-1)"
      ]
    },
    {
      "cell_type": "code",
      "source": [
        "df_out[\"ruta_recom_vecinos\"]  = cross_val_predict(knn_ruta,  X_ruta,  y_ruta,  cv=cv_ruta,  n_jobs=-1)\n",
        "df_out[\"epoca_recom_vecinos\"] = cross_val_predict(knn_epoca, X_epoca, y_epoca, cv=cv_epoca, n_jobs=-1)"
      ],
      "metadata": {
        "id": "r0A-Y9rS28yW"
      },
      "id": "r0A-Y9rS28yW",
      "execution_count": 462,
      "outputs": []
    },
    {
      "cell_type": "code",
      "source": [
        "df_out_proba_ruta  = cross_val_predict(knn_ruta,  X_ruta,  y_ruta,  cv=cv_ruta,  n_jobs=-1, method=\"predict_proba\")\n",
        "df_out_proba_epoca = cross_val_predict(knn_epoca, X_epoca, y_epoca, cv=cv_epoca, n_jobs=-1, method=\"predict_proba\")"
      ],
      "metadata": {
        "id": "RuefxxgQ28wm"
      },
      "id": "RuefxxgQ28wm",
      "execution_count": 463,
      "outputs": []
    },
    {
      "cell_type": "code",
      "source": [
        "labels_ruta  = sorted(y_ruta.unique())\n",
        "labels_epoca = sorted(y_epoca.unique())\n",
        "\n",
        "print(\"\\n RUTA \")\n",
        "saca_metricas_multiclase(y_ruta, df_out[\"ruta_recom_vecinos\"], df_out_proba_ruta, labels_ruta)\n",
        "\n",
        "print(\"\\n ÉPOCA\")\n",
        "saca_metricas_multiclase(y_epoca, df_out[\"epoca_recom_vecinos\"], df_out_proba_epoca, labels_epoca)"
      ],
      "metadata": {
        "colab": {
          "base_uri": "https://localhost:8080/"
        },
        "id": "R9zJ49Bg28um",
        "outputId": "bdec81f8-51c2-4f49-ac73-0029b434fb41"
      },
      "id": "R9zJ49Bg28um",
      "execution_count": 464,
      "outputs": [
        {
          "output_type": "stream",
          "name": "stdout",
          "text": [
            "\n",
            " RUTA \n",
            "Matriz de Confusión\n",
            "[[  0   2   0   0   0   0]\n",
            " [  0 713  36 166   8  13]\n",
            " [  0 179  13  39   4   1]\n",
            " [  0 395  29  70   8   2]\n",
            " [  0 102  10  36   4   3]\n",
            " [  0 124   7  25   5   6]]\n",
            "Accuracy: 0.403\n",
            "Precision (macro): 0.19895558929758675\n",
            "Recall (macro): 0.16957672778820257\n",
            "F1 Score (macro): 0.15549968700867758\n",
            "AUC (macro, OvR): 0.5205000212455315\n",
            "\n",
            " ÉPOCA\n",
            "Matriz de Confusión\n",
            "[[ 44  29  20 119]\n",
            " [ 40 216  13  97]\n",
            " [ 39  23 191  87]\n",
            " [ 41  34  24 983]]\n",
            "Accuracy: 0.717\n",
            "Precision (macro): 0.6295178633493274\n"
          ]
        },
        {
          "output_type": "stream",
          "name": "stderr",
          "text": [
            "/usr/local/lib/python3.12/dist-packages/sklearn/metrics/_classification.py:1565: UndefinedMetricWarning: Precision is ill-defined and being set to 0.0 in labels with no predicted samples. Use `zero_division` parameter to control this behavior.\n",
            "  _warn_prf(average, modifier, f\"{metric.capitalize()} is\", len(result))\n"
          ]
        },
        {
          "output_type": "stream",
          "name": "stdout",
          "text": [
            "Recall (macro): 0.5669946456907891\n",
            "F1 Score (macro): 0.5901613726124754\n",
            "AUC (macro, OvR): 0.8232009662962763\n"
          ]
        }
      ]
    },
    {
      "cell_type": "code",
      "source": [
        "X_num = make_numeric(X)"
      ],
      "metadata": {
        "id": "ZMjRQfJ336K8"
      },
      "id": "ZMjRQfJ336K8",
      "execution_count": 465,
      "outputs": []
    },
    {
      "cell_type": "markdown",
      "source": [
        "# 7. Importancia de variables\n",
        "## 7.1 Para los targets de clasificación"
      ],
      "metadata": {
        "id": "V1_pjFIHjxbI"
      },
      "id": "V1_pjFIHjxbI"
    },
    {
      "cell_type": "code",
      "source": [
        "clasificacion_targets = {\n",
        "    \"lesion\": tar[\"lesion\"],\n",
        "    \"trMochila\": tar[\"trMochila\"],\n",
        "    \"reservaAlojamiento\": tar[\"reservaAlojamiento\"],\n",
        "}\n",
        "\n",
        "feat_imp_clf = {}  # dict de Series\n",
        "\n",
        "for nombre, y in clasificacion_targets.items():\n",
        "    y = pd.to_numeric(y, errors=\"coerce\").fillna(0).astype(int)\n",
        "    rf = RandomForestClassifier(n_estimators=400, random_state=42, n_jobs=-1)\n",
        "    rf.fit(X_num, y)\n",
        "    s = pd.Series(rf.feature_importances_, index=X_num.columns).sort_values(ascending=False)\n",
        "    feat_imp_clf[nombre] = s\n",
        "    print(f\"\\nTop 15 features para {nombre}\")\n",
        "    print(s.head(15))"
      ],
      "metadata": {
        "colab": {
          "base_uri": "https://localhost:8080/"
        },
        "id": "yZVJ160-36Gm",
        "outputId": "cade7db3-347b-4abb-996a-6a9b155fbed3"
      },
      "id": "yZVJ160-36Gm",
      "execution_count": 466,
      "outputs": [
        {
          "output_type": "stream",
          "name": "stdout",
          "text": [
            "\n",
            "Top 15 features para lesion\n",
            "is_lesion_Sí, leve                                          0.356552\n",
            "is_lesion_Sí, moderado                                      0.136590\n",
            "is_volver_a_hacer_Tal vez                                   0.104480\n",
            "is_lesion_Sí, importante (me hizo abandonar)                0.094832\n",
            "edad                                                        0.023176\n",
            "dias                                                        0.017048\n",
            "temporada_Verano                                            0.008346\n",
            "condicion_previa_Media                                      0.007773\n",
            "genero_Mujer                                                0.007245\n",
            "motivo_Religioso, Cultural/turístico, Personal/reflexivo    0.007112\n",
            "motivo_Religioso, Deportivo, Personal/reflexivo             0.007036\n",
            "hace_cuanto_Este año                                        0.006755\n",
            "distancia                                                   0.006689\n",
            "calzado_Zapatillas de trail running                         0.006366\n",
            "is_camino_realizado_prev                                    0.006302\n",
            "dtype: float64\n",
            "\n",
            "Top 15 features para trMochila\n",
            "edad                                                         0.076843\n",
            "dias                                                         0.063631\n",
            "hace_cuanto_Este año                                         0.027283\n",
            "condicion_previa_Media                                       0.025541\n",
            "genero_Mujer                                                 0.025437\n",
            "temporada_Verano                                             0.023363\n",
            "calzado_Zapatillas de trail running                          0.022906\n",
            "nivel_expereincia_previo_Moderada (10–20 km regularmente)    0.022735\n",
            "nivel_expereincia_previo_Básica (≤ 10 km ocasionalmente)     0.022474\n",
            "distancia                                                    0.022198\n",
            "calzado_Zapatillas deportivas normales                       0.021323\n",
            "is_camino_realizado_prev                                     0.021111\n",
            "dureza_Moderadas                                             0.021071\n",
            "pais_España                                                  0.018282\n",
            "dureza_Suaves                                                0.018156\n",
            "dtype: float64\n",
            "\n",
            "Top 15 features para reservaAlojamiento\n",
            "alojamiento_Hostales / Hoteles.1                        0.078813\n",
            "alojamiento_Hostales / Hoteles                          0.075135\n",
            "alojamiento_Albergues públicos.1                        0.073184\n",
            "alojamiento_Albergues privados, Hostales / Hoteles      0.073005\n",
            "alojamiento_Albergues privados, Hostales / Hoteles.1    0.070223\n",
            "alojamiento_Albergues públicos                          0.068780\n",
            "alojamiento_Hostales / Hoteles, Airbnb.1                0.047484\n",
            "alojamiento_Hostales / Hoteles, Airbnb                  0.043716\n",
            "temporada_Verano                                        0.039257\n",
            "alojamiento_Hostales / Hoteles, Pensiones.1             0.028096\n",
            "alojamiento_Hostales / Hoteles, Pensiones               0.026608\n",
            "alojamiento_Albergues públicos, Albergues privados      0.025000\n",
            "edad                                                    0.024849\n",
            "alojamiento_Albergues públicos, Albergues privados.1    0.021631\n",
            "dias                                                    0.020891\n",
            "dtype: float64\n"
          ]
        }
      ]
    },
    {
      "cell_type": "markdown",
      "source": [
        "## 7.2 Para los targets de regresión"
      ],
      "metadata": {
        "id": "wXazLpwMj8Ir"
      },
      "id": "wXazLpwMj8Ir"
    },
    {
      "cell_type": "code",
      "source": [
        "regresion_targets = {\n",
        "    \"nota\": tar[\"nota\"].astype(float),\n",
        "    \"intensidad\": tar[\"intensidad\"].astype(float),\n",
        "}\n",
        "\n",
        "feat_imp_reg = {}\n",
        "\n",
        "for nombre, y in regresion_targets.items():\n",
        "    rf = RandomForestRegressor(n_estimators=400, random_state=42, n_jobs=-1)\n",
        "    rf.fit(X_num, y)\n",
        "    s = pd.Series(rf.feature_importances_, index=X_num.columns).sort_values(ascending=False)\n",
        "    feat_imp_reg[nombre] = s\n",
        "    print(f\"\\nTop 15 features para {nombre}\")\n",
        "    print(s.head(15))"
      ],
      "metadata": {
        "colab": {
          "base_uri": "https://localhost:8080/"
        },
        "id": "S_W7Hw8U36EP",
        "outputId": "10568b61-863a-4c4c-9408-2b05ba11d17c"
      },
      "id": "S_W7Hw8U36EP",
      "execution_count": 467,
      "outputs": [
        {
          "output_type": "stream",
          "name": "stdout",
          "text": [
            "\n",
            "Top 15 features para nota\n",
            "is_volver_a_hacer_Tal vez                                    0.351014\n",
            "edad                                                         0.060109\n",
            "dias                                                         0.045449\n",
            "is_lesion_Sí, importante (me hizo abandonar)                 0.019334\n",
            "is_camino_realizado_prev                                     0.014397\n",
            "hace_cuanto_Este año                                         0.014290\n",
            "condicion_previa_Media                                       0.013782\n",
            "calzado_Zapatillas de trail running                          0.013759\n",
            "calzado_Zapatillas deportivas normales                       0.013268\n",
            "nivel_expereincia_previo_Moderada (10–20 km regularmente)    0.012337\n",
            "genero_Mujer                                                 0.012286\n",
            "temporada_Verano                                             0.012093\n",
            "nivel_expereincia_previo_Básica (≤ 10 km ocasionalmente)     0.012029\n",
            "dureza_Moderadas                                             0.011537\n",
            "pais_España                                                  0.011308\n",
            "dtype: float64\n",
            "\n",
            "Top 15 features para intensidad\n",
            "distancia                                                              0.569778\n",
            "dias                                                                   0.422653\n",
            "temporada_Primavera                                                    0.001972\n",
            "calzado_Zapatillas de trail running                                    0.001349\n",
            "motivo_Cultural/turístico, Personal/reflexivo, Religioso               0.001019\n",
            "hace_cuanto_Este año                                                   0.000997\n",
            "dureza_Suaves                                                          0.000524\n",
            "genero_Mujer                                                           0.000501\n",
            "motivo_Religioso, Deportivo, Cultural/turístico, Personal/reflexivo    0.000263\n",
            "edad                                                                   0.000237\n",
            "is_camino_realizado_prev                                               0.000155\n",
            "motivo_Deportivo                                                       0.000150\n",
            "is_condicion_fisica                                                    0.000045\n",
            "condicion_previa_Media                                                 0.000043\n",
            "motivo_Personal/reflexivo, Religioso                                   0.000043\n",
            "dtype: float64\n"
          ]
        }
      ]
    },
    {
      "cell_type": "code",
      "source": [
        "X_ruta_num  = make_numeric(X_ruta)\n",
        "X_epoca_num = make_numeric(X_epoca)"
      ],
      "metadata": {
        "id": "rL_-n49K3nLd"
      },
      "id": "rL_-n49K3nLd",
      "execution_count": 468,
      "outputs": []
    },
    {
      "cell_type": "markdown",
      "source": [
        "## 7.3 Para la variable época"
      ],
      "metadata": {
        "id": "L85P4YGRkbZ_"
      },
      "id": "L85P4YGRkbZ_"
    },
    {
      "cell_type": "code",
      "execution_count": 469,
      "id": "tvTOlW-8F7d9",
      "metadata": {
        "id": "tvTOlW-8F7d9",
        "colab": {
          "base_uri": "https://localhost:8080/"
        },
        "outputId": "496bea6a-8742-40ee-8bab-37e5c29ee25b"
      },
      "outputs": [
        {
          "output_type": "stream",
          "name": "stdout",
          "text": [
            "temporada_Verano                                             0.333701\n",
            "temporada_Otoño                                              0.213875\n",
            "temporada_Primavera                                          0.204586\n",
            "is_reserva_aloj                                              0.015917\n",
            "edad                                                         0.015110\n",
            "intensidad_km_dia                                            0.011841\n",
            "dias                                                         0.011783\n",
            "nota                                                         0.011470\n",
            "condicion_previa_Media                                       0.005820\n",
            "genero_Mujer                                                 0.005536\n",
            "hace_cuanto_Este año                                         0.005448\n",
            "nivel_expereincia_previo_Básica (≤ 10 km ocasionalmente)     0.005196\n",
            "nivel_expereincia_previo_Moderada (10–20 km regularmente)    0.005004\n",
            "dureza_Moderadas                                             0.004920\n",
            "calzado_Zapatillas de trail running                          0.004701\n",
            "dtype: float64\n"
          ]
        }
      ],
      "source": [
        "rf_epoca = RandomForestClassifier(n_estimators=400, random_state=42, n_jobs=-1)\n",
        "rf_epoca.fit(X_epoca_num, y_epoca)\n",
        "\n",
        "importances = pd.Series(rf_epoca.feature_importances_, index=X_epoca_num.columns)\n",
        "print(importances.sort_values(ascending=False).head(15))\n"
      ]
    },
    {
      "cell_type": "markdown",
      "source": [
        "## 7.3 Para la variable ruta"
      ],
      "metadata": {
        "id": "7NBUYPgkkjlt"
      },
      "id": "7NBUYPgkkjlt"
    },
    {
      "cell_type": "code",
      "source": [
        "rf_ruta = RandomForestClassifier(n_estimators=400, random_state=42, n_jobs=-1)\n",
        "rf_ruta.fit(X_ruta_num, y_ruta)\n",
        "\n",
        "importances_ruta = pd.Series(rf_ruta.feature_importances_, index=X_ruta_num.columns)\n",
        "print(importances_ruta.sort_values(ascending=False).head(15))\n"
      ],
      "metadata": {
        "colab": {
          "base_uri": "https://localhost:8080/"
        },
        "id": "g0OCwTVP3sgt",
        "outputId": "9ed1b3b5-9e69-44b9-8917-e87a94a80473"
      },
      "id": "g0OCwTVP3sgt",
      "execution_count": 470,
      "outputs": [
        {
          "output_type": "stream",
          "name": "stdout",
          "text": [
            "intensidad_km_dia                                            0.060458\n",
            "dias                                                         0.057425\n",
            "edad                                                         0.056883\n",
            "nota                                                         0.039492\n",
            "distancia                                                    0.033463\n",
            "hace_cuanto_Este año                                         0.023609\n",
            "condicion_previa_Media                                       0.023361\n",
            "genero_Mujer                                                 0.023244\n",
            "nivel_expereincia_previo_Básica (≤ 10 km ocasionalmente)     0.022378\n",
            "calzado_Zapatillas de trail running                          0.019901\n",
            "nivel_expereincia_previo_Moderada (10–20 km regularmente)    0.019725\n",
            "dureza_Moderadas                                             0.019715\n",
            "is_camino_realizado_prev                                     0.019659\n",
            "calzado_Zapatillas deportivas normales                       0.019268\n",
            "temporada_Verano                                             0.019242\n",
            "dtype: float64\n"
          ]
        }
      ]
    },
    {
      "cell_type": "markdown",
      "id": "9J3qUThZH4A7",
      "metadata": {
        "id": "9J3qUThZH4A7"
      },
      "source": [
        "# 8. Salida"
      ]
    },
    {
      "cell_type": "code",
      "execution_count": 471,
      "id": "8oocyZLTDRfo",
      "metadata": {
        "id": "8oocyZLTDRfo"
      },
      "outputs": [],
      "source": [
        "df_out.to_csv(\"Salida_Modelo.csv\", index=False, encoding=\"utf-8-sig\", sep=\",\", quotechar='\"')"
      ]
    },
    {
      "cell_type": "code",
      "source": [
        "#El anterior no lo lee bien Tableau -> .tsv\n",
        "df_t = df_out.copy()\n",
        "\n",
        "def limpiar_nombre(col):\n",
        "    col = unicodedata.normalize(\"NFKD\", col).encode(\"ASCII\", \"ignore\").decode()\n",
        "    for ch in [' ', ',', ';', '/', '\\\\', '(', ')', '[', ']', '{', '}', '\"', \"'\"]:\n",
        "        col = col.replace(ch, '_')\n",
        "    col = col.replace('__','_').strip('_')\n",
        "    return col\n",
        "\n",
        "df_t.columns = [limpiar_nombre(c) for c in df_t.columns]\n",
        "\n",
        "obj_cols = df_t.select_dtypes(include=['object']).columns\n",
        "for c in obj_cols:\n",
        "    df_t[c] = (df_t[c]\n",
        "                  .astype(str)\n",
        "                  .str.replace(r'[\\r\\n]+', ' ', regex=True)\n",
        "                  .str.replace('\\t', ' ', regex=False))\n",
        "\n",
        "df_t.to_csv(\"Salida_Modelo_Tableau.tsv\", sep='\\t', index=False, encoding='utf-8-sig', quoting=csv.QUOTE_MINIMAL)"
      ],
      "metadata": {
        "id": "-m7nctc-byjF"
      },
      "id": "-m7nctc-byjF",
      "execution_count": 472,
      "outputs": []
    }
  ],
  "metadata": {
    "colab": {
      "provenance": []
    },
    "kernelspec": {
      "display_name": "Python 3 (ipykernel)",
      "language": "python",
      "name": "python3"
    },
    "language_info": {
      "codemirror_mode": {
        "name": "ipython",
        "version": 3
      },
      "file_extension": ".py",
      "mimetype": "text/x-python",
      "name": "python",
      "nbconvert_exporter": "python",
      "pygments_lexer": "ipython3",
      "version": "3.12.4"
    }
  },
  "nbformat": 4,
  "nbformat_minor": 5
}