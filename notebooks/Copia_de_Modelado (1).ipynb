{
  "cells": [
    {
      "cell_type": "code",
      "execution_count": 17,
      "id": "4fd96893-6737-4bea-a89d-ee491ddde13c",
      "metadata": {
        "id": "4fd96893-6737-4bea-a89d-ee491ddde13c"
      },
      "outputs": [],
      "source": [
        "## lo básico\n",
        "import pandas as pd\n",
        "import numpy as np\n",
        "\n",
        "## visualización\n",
        "import matplotlib.pyplot as plt\n",
        "%matplotlib inline\n",
        "\n",
        "import seaborn as sns\n",
        "import plotly.express as px\n",
        "import plotly.graph_objects as go\n",
        "\n",
        "## pre procesado\n",
        "from sklearn.model_selection import train_test_split\n",
        "#from ydata_profiling import ProfileReport\n",
        "\n",
        "## modelado\n",
        "from sklearn.preprocessing import LabelEncoder\n",
        "from sklearn.ensemble import RandomForestClassifier,RandomForestRegressor\n",
        "from sklearn.tree import DecisionTreeClassifier\n",
        "from sklearn.naive_bayes import GaussianNB\n",
        "from sklearn.linear_model import LogisticRegression\n",
        "from sklearn.linear_model import LinearRegression\n",
        "from sklearn.neighbors import NearestNeighbors\n",
        "from sklearn.neighbors import KNeighborsClassifier\n",
        "\n",
        "from sklearn.dummy import DummyClassifier, DummyRegressor\n",
        "\n",
        "\n",
        "\n",
        "\n",
        "## métricas\n",
        "from pandas.plotting import scatter_matrix\n",
        "from sklearn.metrics import accuracy_score, auc, confusion_matrix, f1_score, precision_score, recall_score, roc_curve, roc_auc_score\n",
        "from sklearn.metrics import classification_report, average_precision_score, ConfusionMatrixDisplay,mean_absolute_error,mean_squared_error\n",
        "from sklearn.preprocessing import label_binarize\n",
        "\n",
        "## mejora de modelos\n",
        "from sklearn.feature_selection import VarianceThreshold\n",
        "from sklearn.feature_selection import SelectKBest\n",
        "from sklearn.model_selection import GridSearchCV\n",
        "from imblearn.over_sampling import SMOTE\n",
        "from sklearn.model_selection import cross_val_score\n",
        "\n",
        "\n",
        "## automatización\n",
        "from sklearn.pipeline import Pipeline\n",
        "from sklearn.preprocessing import OneHotEncoder, StandardScaler\n",
        "from sklearn.compose import ColumnTransformer\n",
        "from sklearn.impute import SimpleImputer"
      ]
    },
    {
      "cell_type": "markdown",
      "id": "28f98eba-67f3-4135-b6a0-686d42270330",
      "metadata": {
        "id": "28f98eba-67f3-4135-b6a0-686d42270330"
      },
      "source": [
        "# 1. Carga de datos"
      ]
    },
    {
      "cell_type": "code",
      "execution_count": 2,
      "id": "34981632-b75f-44dd-9fa8-6493cf30f916",
      "metadata": {
        "colab": {
          "base_uri": "https://localhost:8080/",
          "height": 273
        },
        "id": "34981632-b75f-44dd-9fa8-6493cf30f916",
        "outputId": "dcb7bf4c-403b-4c1d-eb4a-30de0ca22143"
      },
      "outputs": [
        {
          "output_type": "execute_result",
          "data": {
            "text/plain": [
              "   edad  is_condicion_fisica  is_camino_realizado_prev  dias  distancia  \\\n",
              "0  32.0                    0                         0   5.0        100   \n",
              "1  32.0                    0                         0   5.0        100   \n",
              "2  32.0                    0                         1   6.0        100   \n",
              "3  32.0                    0                         0   6.0        100   \n",
              "4  21.0                    0                         1   6.0        100   \n",
              "\n",
              "   is_calzado_adecuado  is_tr_mochila  is_reserva_aloj  nota  \\\n",
              "0                    0              0                1     9   \n",
              "1                    0              0                1     9   \n",
              "2                    1              1                1     8   \n",
              "3                    1              1                1     9   \n",
              "4                    1              1                1    10   \n",
              "\n",
              "   intensidad_km_dia  ...  temporada_Primavera  temporada_Verano  \\\n",
              "0          20.000000  ...                    0                 1   \n",
              "1          20.000000  ...                    0                 1   \n",
              "2          16.666667  ...                    1                 0   \n",
              "3          16.666667  ...                    1                 0   \n",
              "4          16.666667  ...                    0                 1   \n",
              "\n",
              "   grupo_edad_30-39  grupo_edad_40-49  grupo_edad_50-59  grupo_edad_60-70  \\\n",
              "0                 1                 0                 0                 0   \n",
              "1                 1                 0                 0                 0   \n",
              "2                 1                 0                 0                 0   \n",
              "3                 1                 0                 0                 0   \n",
              "4                 0                 0                 0                 0   \n",
              "\n",
              "   is_volver_binaria  is_volver_talvez  is_volver_a_hacer_1.0  is_lesion_1  \n",
              "0                  1                 0                      1            1  \n",
              "1                  1                 0                      1            0  \n",
              "2                  1                 0                      1            1  \n",
              "3                  1                 0                      1            0  \n",
              "4                  1                 0                      1            1  \n",
              "\n",
              "[5 rows x 72 columns]"
            ],
            "text/html": [
              "\n",
              "  <div id=\"df-161f0bb2-f612-4b04-9b2d-3f9135608ada\" class=\"colab-df-container\">\n",
              "    <div>\n",
              "<style scoped>\n",
              "    .dataframe tbody tr th:only-of-type {\n",
              "        vertical-align: middle;\n",
              "    }\n",
              "\n",
              "    .dataframe tbody tr th {\n",
              "        vertical-align: top;\n",
              "    }\n",
              "\n",
              "    .dataframe thead th {\n",
              "        text-align: right;\n",
              "    }\n",
              "</style>\n",
              "<table border=\"1\" class=\"dataframe\">\n",
              "  <thead>\n",
              "    <tr style=\"text-align: right;\">\n",
              "      <th></th>\n",
              "      <th>edad</th>\n",
              "      <th>is_condicion_fisica</th>\n",
              "      <th>is_camino_realizado_prev</th>\n",
              "      <th>dias</th>\n",
              "      <th>distancia</th>\n",
              "      <th>is_calzado_adecuado</th>\n",
              "      <th>is_tr_mochila</th>\n",
              "      <th>is_reserva_aloj</th>\n",
              "      <th>nota</th>\n",
              "      <th>intensidad_km_dia</th>\n",
              "      <th>...</th>\n",
              "      <th>temporada_Primavera</th>\n",
              "      <th>temporada_Verano</th>\n",
              "      <th>grupo_edad_30-39</th>\n",
              "      <th>grupo_edad_40-49</th>\n",
              "      <th>grupo_edad_50-59</th>\n",
              "      <th>grupo_edad_60-70</th>\n",
              "      <th>is_volver_binaria</th>\n",
              "      <th>is_volver_talvez</th>\n",
              "      <th>is_volver_a_hacer_1.0</th>\n",
              "      <th>is_lesion_1</th>\n",
              "    </tr>\n",
              "  </thead>\n",
              "  <tbody>\n",
              "    <tr>\n",
              "      <th>0</th>\n",
              "      <td>32.0</td>\n",
              "      <td>0</td>\n",
              "      <td>0</td>\n",
              "      <td>5.0</td>\n",
              "      <td>100</td>\n",
              "      <td>0</td>\n",
              "      <td>0</td>\n",
              "      <td>1</td>\n",
              "      <td>9</td>\n",
              "      <td>20.000000</td>\n",
              "      <td>...</td>\n",
              "      <td>0</td>\n",
              "      <td>1</td>\n",
              "      <td>1</td>\n",
              "      <td>0</td>\n",
              "      <td>0</td>\n",
              "      <td>0</td>\n",
              "      <td>1</td>\n",
              "      <td>0</td>\n",
              "      <td>1</td>\n",
              "      <td>1</td>\n",
              "    </tr>\n",
              "    <tr>\n",
              "      <th>1</th>\n",
              "      <td>32.0</td>\n",
              "      <td>0</td>\n",
              "      <td>0</td>\n",
              "      <td>5.0</td>\n",
              "      <td>100</td>\n",
              "      <td>0</td>\n",
              "      <td>0</td>\n",
              "      <td>1</td>\n",
              "      <td>9</td>\n",
              "      <td>20.000000</td>\n",
              "      <td>...</td>\n",
              "      <td>0</td>\n",
              "      <td>1</td>\n",
              "      <td>1</td>\n",
              "      <td>0</td>\n",
              "      <td>0</td>\n",
              "      <td>0</td>\n",
              "      <td>1</td>\n",
              "      <td>0</td>\n",
              "      <td>1</td>\n",
              "      <td>0</td>\n",
              "    </tr>\n",
              "    <tr>\n",
              "      <th>2</th>\n",
              "      <td>32.0</td>\n",
              "      <td>0</td>\n",
              "      <td>1</td>\n",
              "      <td>6.0</td>\n",
              "      <td>100</td>\n",
              "      <td>1</td>\n",
              "      <td>1</td>\n",
              "      <td>1</td>\n",
              "      <td>8</td>\n",
              "      <td>16.666667</td>\n",
              "      <td>...</td>\n",
              "      <td>1</td>\n",
              "      <td>0</td>\n",
              "      <td>1</td>\n",
              "      <td>0</td>\n",
              "      <td>0</td>\n",
              "      <td>0</td>\n",
              "      <td>1</td>\n",
              "      <td>0</td>\n",
              "      <td>1</td>\n",
              "      <td>1</td>\n",
              "    </tr>\n",
              "    <tr>\n",
              "      <th>3</th>\n",
              "      <td>32.0</td>\n",
              "      <td>0</td>\n",
              "      <td>0</td>\n",
              "      <td>6.0</td>\n",
              "      <td>100</td>\n",
              "      <td>1</td>\n",
              "      <td>1</td>\n",
              "      <td>1</td>\n",
              "      <td>9</td>\n",
              "      <td>16.666667</td>\n",
              "      <td>...</td>\n",
              "      <td>1</td>\n",
              "      <td>0</td>\n",
              "      <td>1</td>\n",
              "      <td>0</td>\n",
              "      <td>0</td>\n",
              "      <td>0</td>\n",
              "      <td>1</td>\n",
              "      <td>0</td>\n",
              "      <td>1</td>\n",
              "      <td>0</td>\n",
              "    </tr>\n",
              "    <tr>\n",
              "      <th>4</th>\n",
              "      <td>21.0</td>\n",
              "      <td>0</td>\n",
              "      <td>1</td>\n",
              "      <td>6.0</td>\n",
              "      <td>100</td>\n",
              "      <td>1</td>\n",
              "      <td>1</td>\n",
              "      <td>1</td>\n",
              "      <td>10</td>\n",
              "      <td>16.666667</td>\n",
              "      <td>...</td>\n",
              "      <td>0</td>\n",
              "      <td>1</td>\n",
              "      <td>0</td>\n",
              "      <td>0</td>\n",
              "      <td>0</td>\n",
              "      <td>0</td>\n",
              "      <td>1</td>\n",
              "      <td>0</td>\n",
              "      <td>1</td>\n",
              "      <td>1</td>\n",
              "    </tr>\n",
              "  </tbody>\n",
              "</table>\n",
              "<p>5 rows × 72 columns</p>\n",
              "</div>\n",
              "    <div class=\"colab-df-buttons\">\n",
              "\n",
              "  <div class=\"colab-df-container\">\n",
              "    <button class=\"colab-df-convert\" onclick=\"convertToInteractive('df-161f0bb2-f612-4b04-9b2d-3f9135608ada')\"\n",
              "            title=\"Convert this dataframe to an interactive table.\"\n",
              "            style=\"display:none;\">\n",
              "\n",
              "  <svg xmlns=\"http://www.w3.org/2000/svg\" height=\"24px\" viewBox=\"0 -960 960 960\">\n",
              "    <path d=\"M120-120v-720h720v720H120Zm60-500h600v-160H180v160Zm220 220h160v-160H400v160Zm0 220h160v-160H400v160ZM180-400h160v-160H180v160Zm440 0h160v-160H620v160ZM180-180h160v-160H180v160Zm440 0h160v-160H620v160Z\"/>\n",
              "  </svg>\n",
              "    </button>\n",
              "\n",
              "  <style>\n",
              "    .colab-df-container {\n",
              "      display:flex;\n",
              "      gap: 12px;\n",
              "    }\n",
              "\n",
              "    .colab-df-convert {\n",
              "      background-color: #E8F0FE;\n",
              "      border: none;\n",
              "      border-radius: 50%;\n",
              "      cursor: pointer;\n",
              "      display: none;\n",
              "      fill: #1967D2;\n",
              "      height: 32px;\n",
              "      padding: 0 0 0 0;\n",
              "      width: 32px;\n",
              "    }\n",
              "\n",
              "    .colab-df-convert:hover {\n",
              "      background-color: #E2EBFA;\n",
              "      box-shadow: 0px 1px 2px rgba(60, 64, 67, 0.3), 0px 1px 3px 1px rgba(60, 64, 67, 0.15);\n",
              "      fill: #174EA6;\n",
              "    }\n",
              "\n",
              "    .colab-df-buttons div {\n",
              "      margin-bottom: 4px;\n",
              "    }\n",
              "\n",
              "    [theme=dark] .colab-df-convert {\n",
              "      background-color: #3B4455;\n",
              "      fill: #D2E3FC;\n",
              "    }\n",
              "\n",
              "    [theme=dark] .colab-df-convert:hover {\n",
              "      background-color: #434B5C;\n",
              "      box-shadow: 0px 1px 3px 1px rgba(0, 0, 0, 0.15);\n",
              "      filter: drop-shadow(0px 1px 2px rgba(0, 0, 0, 0.3));\n",
              "      fill: #FFFFFF;\n",
              "    }\n",
              "  </style>\n",
              "\n",
              "    <script>\n",
              "      const buttonEl =\n",
              "        document.querySelector('#df-161f0bb2-f612-4b04-9b2d-3f9135608ada button.colab-df-convert');\n",
              "      buttonEl.style.display =\n",
              "        google.colab.kernel.accessAllowed ? 'block' : 'none';\n",
              "\n",
              "      async function convertToInteractive(key) {\n",
              "        const element = document.querySelector('#df-161f0bb2-f612-4b04-9b2d-3f9135608ada');\n",
              "        const dataTable =\n",
              "          await google.colab.kernel.invokeFunction('convertToInteractive',\n",
              "                                                    [key], {});\n",
              "        if (!dataTable) return;\n",
              "\n",
              "        const docLinkHtml = 'Like what you see? Visit the ' +\n",
              "          '<a target=\"_blank\" href=https://colab.research.google.com/notebooks/data_table.ipynb>data table notebook</a>'\n",
              "          + ' to learn more about interactive tables.';\n",
              "        element.innerHTML = '';\n",
              "        dataTable['output_type'] = 'display_data';\n",
              "        await google.colab.output.renderOutput(dataTable, element);\n",
              "        const docLink = document.createElement('div');\n",
              "        docLink.innerHTML = docLinkHtml;\n",
              "        element.appendChild(docLink);\n",
              "      }\n",
              "    </script>\n",
              "  </div>\n",
              "\n",
              "\n",
              "    <div id=\"df-3fda1195-cb34-4aa9-8270-afbfff46c2c9\">\n",
              "      <button class=\"colab-df-quickchart\" onclick=\"quickchart('df-3fda1195-cb34-4aa9-8270-afbfff46c2c9')\"\n",
              "                title=\"Suggest charts\"\n",
              "                style=\"display:none;\">\n",
              "\n",
              "<svg xmlns=\"http://www.w3.org/2000/svg\" height=\"24px\"viewBox=\"0 0 24 24\"\n",
              "     width=\"24px\">\n",
              "    <g>\n",
              "        <path d=\"M19 3H5c-1.1 0-2 .9-2 2v14c0 1.1.9 2 2 2h14c1.1 0 2-.9 2-2V5c0-1.1-.9-2-2-2zM9 17H7v-7h2v7zm4 0h-2V7h2v10zm4 0h-2v-4h2v4z\"/>\n",
              "    </g>\n",
              "</svg>\n",
              "      </button>\n",
              "\n",
              "<style>\n",
              "  .colab-df-quickchart {\n",
              "      --bg-color: #E8F0FE;\n",
              "      --fill-color: #1967D2;\n",
              "      --hover-bg-color: #E2EBFA;\n",
              "      --hover-fill-color: #174EA6;\n",
              "      --disabled-fill-color: #AAA;\n",
              "      --disabled-bg-color: #DDD;\n",
              "  }\n",
              "\n",
              "  [theme=dark] .colab-df-quickchart {\n",
              "      --bg-color: #3B4455;\n",
              "      --fill-color: #D2E3FC;\n",
              "      --hover-bg-color: #434B5C;\n",
              "      --hover-fill-color: #FFFFFF;\n",
              "      --disabled-bg-color: #3B4455;\n",
              "      --disabled-fill-color: #666;\n",
              "  }\n",
              "\n",
              "  .colab-df-quickchart {\n",
              "    background-color: var(--bg-color);\n",
              "    border: none;\n",
              "    border-radius: 50%;\n",
              "    cursor: pointer;\n",
              "    display: none;\n",
              "    fill: var(--fill-color);\n",
              "    height: 32px;\n",
              "    padding: 0;\n",
              "    width: 32px;\n",
              "  }\n",
              "\n",
              "  .colab-df-quickchart:hover {\n",
              "    background-color: var(--hover-bg-color);\n",
              "    box-shadow: 0 1px 2px rgba(60, 64, 67, 0.3), 0 1px 3px 1px rgba(60, 64, 67, 0.15);\n",
              "    fill: var(--button-hover-fill-color);\n",
              "  }\n",
              "\n",
              "  .colab-df-quickchart-complete:disabled,\n",
              "  .colab-df-quickchart-complete:disabled:hover {\n",
              "    background-color: var(--disabled-bg-color);\n",
              "    fill: var(--disabled-fill-color);\n",
              "    box-shadow: none;\n",
              "  }\n",
              "\n",
              "  .colab-df-spinner {\n",
              "    border: 2px solid var(--fill-color);\n",
              "    border-color: transparent;\n",
              "    border-bottom-color: var(--fill-color);\n",
              "    animation:\n",
              "      spin 1s steps(1) infinite;\n",
              "  }\n",
              "\n",
              "  @keyframes spin {\n",
              "    0% {\n",
              "      border-color: transparent;\n",
              "      border-bottom-color: var(--fill-color);\n",
              "      border-left-color: var(--fill-color);\n",
              "    }\n",
              "    20% {\n",
              "      border-color: transparent;\n",
              "      border-left-color: var(--fill-color);\n",
              "      border-top-color: var(--fill-color);\n",
              "    }\n",
              "    30% {\n",
              "      border-color: transparent;\n",
              "      border-left-color: var(--fill-color);\n",
              "      border-top-color: var(--fill-color);\n",
              "      border-right-color: var(--fill-color);\n",
              "    }\n",
              "    40% {\n",
              "      border-color: transparent;\n",
              "      border-right-color: var(--fill-color);\n",
              "      border-top-color: var(--fill-color);\n",
              "    }\n",
              "    60% {\n",
              "      border-color: transparent;\n",
              "      border-right-color: var(--fill-color);\n",
              "    }\n",
              "    80% {\n",
              "      border-color: transparent;\n",
              "      border-right-color: var(--fill-color);\n",
              "      border-bottom-color: var(--fill-color);\n",
              "    }\n",
              "    90% {\n",
              "      border-color: transparent;\n",
              "      border-bottom-color: var(--fill-color);\n",
              "    }\n",
              "  }\n",
              "</style>\n",
              "\n",
              "      <script>\n",
              "        async function quickchart(key) {\n",
              "          const quickchartButtonEl =\n",
              "            document.querySelector('#' + key + ' button');\n",
              "          quickchartButtonEl.disabled = true;  // To prevent multiple clicks.\n",
              "          quickchartButtonEl.classList.add('colab-df-spinner');\n",
              "          try {\n",
              "            const charts = await google.colab.kernel.invokeFunction(\n",
              "                'suggestCharts', [key], {});\n",
              "          } catch (error) {\n",
              "            console.error('Error during call to suggestCharts:', error);\n",
              "          }\n",
              "          quickchartButtonEl.classList.remove('colab-df-spinner');\n",
              "          quickchartButtonEl.classList.add('colab-df-quickchart-complete');\n",
              "        }\n",
              "        (() => {\n",
              "          let quickchartButtonEl =\n",
              "            document.querySelector('#df-3fda1195-cb34-4aa9-8270-afbfff46c2c9 button');\n",
              "          quickchartButtonEl.style.display =\n",
              "            google.colab.kernel.accessAllowed ? 'block' : 'none';\n",
              "        })();\n",
              "      </script>\n",
              "    </div>\n",
              "\n",
              "    </div>\n",
              "  </div>\n"
            ],
            "application/vnd.google.colaboratory.intrinsic+json": {
              "type": "dataframe",
              "variable_name": "df"
            }
          },
          "metadata": {},
          "execution_count": 2
        }
      ],
      "source": [
        "url = \"https://raw.githubusercontent.com/Valeriavinasl/ucm-tfm/main/data/F_E_Encuesta.csv\"\n",
        "\n",
        "df = pd.read_csv(url, sep=\"\\t\", engine=\"python\")\n",
        "df.head()"
      ]
    },
    {
      "cell_type": "markdown",
      "source": [
        "# 2. Modelado supervisado (clasificación y regresión)\n",
        "Objetivos"
      ],
      "metadata": {
        "id": "hDBBaFfYxjFz"
      },
      "id": "hDBBaFfYxjFz"
    },
    {
      "cell_type": "code",
      "source": [
        "X = df.drop(columns=['nota', 'is_lesion_1', 'is_volver_a_hacer_1.0',\n",
        "                        'is_tr_mochila', 'is_reserva_aloj', 'intensidad_km_dia',\n",
        "                        'ruta_Francés', 'ruta_Inglés', 'ruta_Portugués', 'ruta_Primitivo', 'ruta_del Norte',\n",
        "                        'epoca_Otoño', 'epoca_Primavera', 'epoca_Verano'])\n"
      ],
      "metadata": {
        "id": "qwTKTNZ9z6OX"
      },
      "id": "qwTKTNZ9z6OX",
      "execution_count": 4,
      "outputs": []
    },
    {
      "cell_type": "code",
      "source": [
        "def eval_clf(X, y, model, name):\n",
        "    Xtr, Xte, ytr, yte = train_test_split(X, y, test_size=0.2, random_state=42)\n",
        "    model.fit(Xtr, ytr)\n",
        "    ypred = model.predict_proba(Xte)[:,1]\n",
        "    acc = accuracy_score(yte, (ypred > 0.5).astype(int))\n",
        "    print(f\"{name}: ACC = {acc:.3f}\")\n",
        "    return model, model.predict_proba(X)[:,1]  # devuelve proba completa\n"
      ],
      "metadata": {
        "id": "RMuCl6xrFtZQ"
      },
      "id": "RMuCl6xrFtZQ",
      "execution_count": 5,
      "outputs": []
    },
    {
      "cell_type": "code",
      "source": [
        "def eval_reg(X, y, model, name):\n",
        "    Xtr, Xte, ytr, yte = train_test_split(X, y, test_size=0.2, random_state=42)\n",
        "    model.fit(Xtr, ytr)\n",
        "    ypred = model.predict(Xte)\n",
        "    mae = mean_absolute_error(yte, ypred)\n",
        "    rmse = np.sqrt(mean_squared_error(yte, ypred))\n",
        "    print(f\"{name}: MAE={mae:.2f}, RMSE={rmse:.2f}\")\n",
        "    return model, model.predict(X)"
      ],
      "metadata": {
        "id": "Cn3m8VcvFtW7"
      },
      "id": "Cn3m8VcvFtW7",
      "execution_count": 6,
      "outputs": []
    },
    {
      "cell_type": "code",
      "source": [
        "# 3. Modelos de clasificación (probabilidades)\n",
        "\n",
        "clf_mochila, prob_mochila = eval_clf(X, df['is_tr_mochila'], RandomForestClassifier(), \"Prob transporte mochila\")\n",
        "clf_reserva, prob_reserva = eval_clf(X, df['is_reserva_aloj'], RandomForestClassifier(), \"Prob reserva alojamiento\")\n",
        "clf_lesion, prob_lesion = eval_clf(X, df['is_lesion_1'], RandomForestClassifier(), \"Prob lesión\")\n",
        "clf_volver, prob_volver = eval_clf(X, df['is_volver_a_hacer_1.0'], RandomForestClassifier(), \"Prob volver\")\n"
      ],
      "metadata": {
        "colab": {
          "base_uri": "https://localhost:8080/"
        },
        "id": "2h4QRxWgFxgV",
        "outputId": "ce89dbb3-afa3-48e7-cd9b-75b2e4dc473b"
      },
      "id": "2h4QRxWgFxgV",
      "execution_count": 7,
      "outputs": [
        {
          "output_type": "stream",
          "name": "stdout",
          "text": [
            "Prob transporte mochila: ACC = 0.855\n",
            "Prob reserva alojamiento: ACC = 0.690\n",
            "Prob lesión: ACC = 0.963\n",
            "Prob volver: ACC = 1.000\n"
          ]
        }
      ]
    },
    {
      "cell_type": "code",
      "source": [
        "# Ejemplo con prob_lesion\n",
        "Xtr, Xte, ytr, yte = train_test_split(X, df['is_lesion_1'], test_size=0.2, random_state=42)\n",
        "\n",
        "clf = RandomForestClassifier()\n",
        "clf.fit(Xtr, ytr)\n",
        "ypred = clf.predict(Xte)\n",
        "yprob = clf.predict_proba(Xte)[:,1]\n",
        "\n",
        "acc = accuracy_score(yte, ypred)\n",
        "print(\"Accuracy:\", acc)\n",
        "\n",
        "\n",
        "auc = roc_auc_score(yte, yprob)\n",
        "print(\"ROC-AUC:\", auc)\n",
        "\n",
        "\n",
        "print(confusion_matrix(yte, ypred))"
      ],
      "metadata": {
        "colab": {
          "base_uri": "https://localhost:8080/"
        },
        "id": "Ql1OmCVVHlf8",
        "outputId": "fcaa01a9-38a8-4719-b640-779b55028ed7"
      },
      "id": "Ql1OmCVVHlf8",
      "execution_count": 25,
      "outputs": [
        {
          "output_type": "stream",
          "name": "stdout",
          "text": [
            "Accuracy: 0.965\n",
            "ROC-AUC: 0.8509928385416666\n",
            "[[381   3]\n",
            " [ 11   5]]\n"
          ]
        }
      ]
    },
    {
      "cell_type": "code",
      "source": [
        "# Ejemplo con prob_volver_pred\n",
        "Xtr, Xte, ytr, yte = train_test_split(X, df['is_volver_a_hacer_1.0'], test_size=0.2, random_state=42)\n",
        "\n",
        "clf = RandomForestClassifier()\n",
        "clf.fit(Xtr, ytr)\n",
        "ypred = clf.predict(Xte)\n",
        "yprob = clf.predict_proba(Xte)[:,1]\n",
        "\n",
        "\n",
        "acc = accuracy_score(yte, ypred)\n",
        "print(\"Accuracy:\", acc)\n",
        "\n",
        "\n",
        "auc = roc_auc_score(yte, yprob)\n",
        "print(\"ROC-AUC:\", auc)\n",
        "\n",
        "print(confusion_matrix(yte, ypred))"
      ],
      "metadata": {
        "colab": {
          "base_uri": "https://localhost:8080/"
        },
        "id": "6JzQg0a9H0-v",
        "outputId": "3e8d2cd1-b8fd-4f0d-a14d-e7b8d2be1e9e"
      },
      "id": "6JzQg0a9H0-v",
      "execution_count": 26,
      "outputs": [
        {
          "output_type": "stream",
          "name": "stdout",
          "text": [
            "Accuracy: 1.0\n",
            "ROC-AUC: 1.0\n",
            "[[ 22   0]\n",
            " [  0 378]]\n"
          ]
        }
      ]
    },
    {
      "cell_type": "code",
      "source": [],
      "metadata": {
        "id": "MA6rY5j0H08i"
      },
      "id": "MA6rY5j0H08i",
      "execution_count": null,
      "outputs": []
    },
    {
      "cell_type": "code",
      "source": [],
      "metadata": {
        "id": "dokm1n3NH06E"
      },
      "id": "dokm1n3NH06E",
      "execution_count": null,
      "outputs": []
    },
    {
      "cell_type": "code",
      "source": [],
      "metadata": {
        "id": "3yPvZg3YH03u"
      },
      "id": "3yPvZg3YH03u",
      "execution_count": null,
      "outputs": []
    },
    {
      "cell_type": "code",
      "source": [],
      "metadata": {
        "id": "5YUfehJ8H01J"
      },
      "id": "5YUfehJ8H01J",
      "execution_count": null,
      "outputs": []
    },
    {
      "cell_type": "code",
      "source": [],
      "metadata": {
        "id": "_jOBSfPcH0yk"
      },
      "id": "_jOBSfPcH0yk",
      "execution_count": null,
      "outputs": []
    },
    {
      "cell_type": "code",
      "source": [],
      "metadata": {
        "id": "4SLV4QW-H0wW"
      },
      "id": "4SLV4QW-H0wW",
      "execution_count": null,
      "outputs": []
    },
    {
      "cell_type": "code",
      "source": [],
      "metadata": {
        "id": "Lw08FIM8H0tz"
      },
      "id": "Lw08FIM8H0tz",
      "execution_count": null,
      "outputs": []
    },
    {
      "cell_type": "code",
      "source": [],
      "metadata": {
        "id": "IZkJcN8rH0ri"
      },
      "id": "IZkJcN8rH0ri",
      "execution_count": null,
      "outputs": []
    },
    {
      "cell_type": "code",
      "source": [],
      "metadata": {
        "id": "40b0PCNSH0pV"
      },
      "id": "40b0PCNSH0pV",
      "execution_count": null,
      "outputs": []
    },
    {
      "cell_type": "code",
      "source": [],
      "metadata": {
        "id": "FgpaqW0bHlZf"
      },
      "id": "FgpaqW0bHlZf",
      "execution_count": null,
      "outputs": []
    },
    {
      "cell_type": "code",
      "source": [
        "# 4. Modelos de regresión\n",
        "\n",
        "reg_intensidad, pred_intensidad = eval_reg(X, df['intensidad_km_dia'], RandomForestRegressor(), \"Intensidad km/día\")\n",
        "reg_nota, pred_nota = eval_reg(X, df['nota'], RandomForestRegressor(), \"Nota esperada\")\n"
      ],
      "metadata": {
        "colab": {
          "base_uri": "https://localhost:8080/"
        },
        "id": "05D5Zu4fFxeO",
        "outputId": "db146e56-f9ac-42b5-c3ca-35431ff301bf"
      },
      "id": "05D5Zu4fFxeO",
      "execution_count": 14,
      "outputs": [
        {
          "output_type": "stream",
          "name": "stdout",
          "text": [
            "Intensidad km/día: MAE=0.03, RMSE=0.29\n",
            "Nota esperada: MAE=0.51, RMSE=0.61\n"
          ]
        }
      ]
    },
    {
      "cell_type": "code",
      "source": [
        "Xtr, Xte, ytr, yte = train_test_split(X, df['nota'], test_size=0.2, random_state=42)\n",
        "\n",
        "reg = RandomForestRegressor()\n",
        "reg.fit(Xtr, ytr)\n",
        "ypred = reg.predict(Xte)\n",
        "\n",
        "mae = mean_absolute_error(yte, ypred)\n",
        "rmse = np.sqrt(mean_squared_error(yte, ypred))\n",
        "r2 = r2_score(yte, ypred)\n",
        "\n",
        "print(f\"MAE={mae:.2f}, RMSE={rmse:.2f}, R2={r2:.2f}\")"
      ],
      "metadata": {
        "colab": {
          "base_uri": "https://localhost:8080/",
          "height": 222
        },
        "id": "3HTW--RGIM2S",
        "outputId": "d0fa2b97-1e89-41f9-f739-967e8bb8245d"
      },
      "id": "3HTW--RGIM2S",
      "execution_count": 27,
      "outputs": [
        {
          "output_type": "error",
          "ename": "NameError",
          "evalue": "name 'r2_score' is not defined",
          "traceback": [
            "\u001b[0;31m---------------------------------------------------------------------------\u001b[0m",
            "\u001b[0;31mNameError\u001b[0m                                 Traceback (most recent call last)",
            "\u001b[0;32m/tmp/ipython-input-2785547768.py\u001b[0m in \u001b[0;36m<cell line: 0>\u001b[0;34m()\u001b[0m\n\u001b[1;32m      8\u001b[0m \u001b[0mmae\u001b[0m \u001b[0;34m=\u001b[0m \u001b[0mmean_absolute_error\u001b[0m\u001b[0;34m(\u001b[0m\u001b[0myte\u001b[0m\u001b[0;34m,\u001b[0m \u001b[0mypred\u001b[0m\u001b[0;34m)\u001b[0m\u001b[0;34m\u001b[0m\u001b[0;34m\u001b[0m\u001b[0m\n\u001b[1;32m      9\u001b[0m \u001b[0mrmse\u001b[0m \u001b[0;34m=\u001b[0m \u001b[0mnp\u001b[0m\u001b[0;34m.\u001b[0m\u001b[0msqrt\u001b[0m\u001b[0;34m(\u001b[0m\u001b[0mmean_squared_error\u001b[0m\u001b[0;34m(\u001b[0m\u001b[0myte\u001b[0m\u001b[0;34m,\u001b[0m \u001b[0mypred\u001b[0m\u001b[0;34m)\u001b[0m\u001b[0;34m)\u001b[0m\u001b[0;34m\u001b[0m\u001b[0;34m\u001b[0m\u001b[0m\n\u001b[0;32m---> 10\u001b[0;31m \u001b[0mr2\u001b[0m \u001b[0;34m=\u001b[0m \u001b[0mr2_score\u001b[0m\u001b[0;34m(\u001b[0m\u001b[0myte\u001b[0m\u001b[0;34m,\u001b[0m \u001b[0mypred\u001b[0m\u001b[0;34m)\u001b[0m\u001b[0;34m\u001b[0m\u001b[0;34m\u001b[0m\u001b[0m\n\u001b[0m\u001b[1;32m     11\u001b[0m \u001b[0;34m\u001b[0m\u001b[0m\n\u001b[1;32m     12\u001b[0m \u001b[0mprint\u001b[0m\u001b[0;34m(\u001b[0m\u001b[0;34mf\"MAE={mae:.2f}, RMSE={rmse:.2f}, R2={r2:.2f}\"\u001b[0m\u001b[0;34m)\u001b[0m\u001b[0;34m\u001b[0m\u001b[0;34m\u001b[0m\u001b[0m\n",
            "\u001b[0;31mNameError\u001b[0m: name 'r2_score' is not defined"
          ]
        }
      ]
    },
    {
      "cell_type": "code",
      "source": [],
      "metadata": {
        "id": "Zy6IyR2qIM0M"
      },
      "id": "Zy6IyR2qIM0M",
      "execution_count": null,
      "outputs": []
    },
    {
      "cell_type": "code",
      "source": [
        "# 5. Recomendación con vecinos (ruta y época)\n",
        "# Ruta\n",
        "y_ruta = df[['ruta_Francés', 'ruta_Inglés', 'ruta_Portugués', 'ruta_Primitivo', 'ruta_del Norte']].idxmax(axis=1)\n",
        "knn_ruta = KNeighborsClassifier(n_neighbors=5)\n",
        "knn_ruta.fit(X, y_ruta)\n",
        "ruta_recom = knn_ruta.predict(X)\n",
        "\n",
        "# Época\n",
        "y_epoca = df[['epoca_Otoño', 'epoca_Primavera', 'epoca_Verano']].idxmax(axis=1)\n",
        "knn_epoca = KNeighborsClassifier(n_neighbors=5)\n",
        "knn_epoca.fit(X, y_epoca)\n",
        "epoca_recom = knn_epoca.predict(X)"
      ],
      "metadata": {
        "id": "bBBVnHtoFxcP"
      },
      "id": "bBBVnHtoFxcP",
      "execution_count": 20,
      "outputs": []
    },
    {
      "cell_type": "code",
      "source": [
        "def saca_metricas_multiclase(y_true, y_pred, y_proba=None, labels=None):\n",
        "    print('Matriz de Confusión')\n",
        "    print(confusion_matrix(y_true, y_pred))\n",
        "    print('Accuracy:', accuracy_score(y_true, y_pred))\n",
        "    print('Precision (macro):', precision_score(y_true, y_pred, average='macro'))\n",
        "    print('Recall (macro):', recall_score(y_true, y_pred, average='macro'))\n",
        "    print('F1 Score (macro):', f1_score(y_true, y_pred, average='macro'))\n",
        "\n",
        "    if y_proba is not None and labels is not None:\n",
        "        y_true_bin = label_binarize(y_true, classes=labels)\n",
        "        roc_auc = roc_auc_score(y_true_bin, y_proba, average=\"macro\", multi_class=\"ovr\")\n",
        "        print('AUC (macro, OvR):', roc_auc)"
      ],
      "metadata": {
        "id": "Et6OXk3wIbwj"
      },
      "id": "Et6OXk3wIbwj",
      "execution_count": null,
      "outputs": []
    },
    {
      "cell_type": "code",
      "source": [
        "y_pred = model.predict(X_val)\n",
        "y_proba = model.predict_proba(X_val)\n",
        "labels = model.classes_\n",
        "\n",
        "saca_metricas_multiclase(y_val, y_pred, y_proba=y_proba, labels=labels)"
      ],
      "metadata": {
        "id": "ox8bJ3DQIbuV"
      },
      "id": "ox8bJ3DQIbuV",
      "execution_count": null,
      "outputs": []
    },
    {
      "cell_type": "code",
      "source": [],
      "metadata": {
        "id": "cVj4ohEfIdt0"
      },
      "id": "cVj4ohEfIdt0",
      "execution_count": null,
      "outputs": []
    },
    {
      "cell_type": "code",
      "source": [],
      "metadata": {
        "id": "yi5AtHN0IdqE"
      },
      "id": "yi5AtHN0IdqE",
      "execution_count": null,
      "outputs": []
    },
    {
      "cell_type": "code",
      "source": [],
      "metadata": {
        "id": "i9GfVgdRIdoF"
      },
      "id": "i9GfVgdRIdoF",
      "execution_count": null,
      "outputs": []
    },
    {
      "cell_type": "code",
      "source": [],
      "metadata": {
        "id": "p8C2VxaSIdlu"
      },
      "id": "p8C2VxaSIdlu",
      "execution_count": null,
      "outputs": []
    },
    {
      "cell_type": "code",
      "source": [],
      "metadata": {
        "id": "0kX424d8Idjo"
      },
      "id": "0kX424d8Idjo",
      "execution_count": null,
      "outputs": []
    },
    {
      "cell_type": "code",
      "source": [
        "df_final = df.copy()\n",
        "df_final['prob_transporte_mochila_pred'] = prob_mochila\n",
        "df_final['prob_reserva_aloj_pred'] = prob_reserva\n",
        "df_final['prob_lesion_pred'] = prob_lesion\n",
        "df_final['prob_volver_pred'] = prob_volver\n",
        "df_final['intensidad_km_dia_pred'] = pred_intensidad\n",
        "df_final['nota_pred'] = pred_nota\n",
        "df_final['ruta_recom_vecinos'] = ruta_recom\n",
        "df_final['epoca_recom_vecinos'] = epoca_recom"
      ],
      "metadata": {
        "id": "T7dxYRv5FtUO"
      },
      "id": "T7dxYRv5FtUO",
      "execution_count": 21,
      "outputs": []
    },
    {
      "cell_type": "code",
      "source": [
        "df_final.to_csv(\"Salida_Modelo_Mejorado.csv\", index=False)"
      ],
      "metadata": {
        "id": "BfAYh-IFGduM"
      },
      "id": "BfAYh-IFGduM",
      "execution_count": 22,
      "outputs": []
    }
  ],
  "metadata": {
    "kernelspec": {
      "display_name": "Python 3 (ipykernel)",
      "language": "python",
      "name": "python3"
    },
    "language_info": {
      "codemirror_mode": {
        "name": "ipython",
        "version": 3
      },
      "file_extension": ".py",
      "mimetype": "text/x-python",
      "name": "python",
      "nbconvert_exporter": "python",
      "pygments_lexer": "ipython3",
      "version": "3.12.4"
    },
    "colab": {
      "provenance": []
    }
  },
  "nbformat": 4,
  "nbformat_minor": 5
}